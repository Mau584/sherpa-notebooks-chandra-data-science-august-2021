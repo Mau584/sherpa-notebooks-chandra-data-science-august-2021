{
 "cells": [
  {
   "cell_type": "markdown",
   "id": "thrown-track",
   "metadata": {},
   "source": [
    "# What happens if I can't get a good fit?\n",
    "\n",
    "Let's try the completely-made-up example from the \"What is Sherpa?\" notebook:"
   ]
  },
  {
   "cell_type": "code",
   "execution_count": 1,
   "id": "superior-aquarium",
   "metadata": {},
   "outputs": [],
   "source": [
    "from sherpa.astro.ui import *"
   ]
  },
  {
   "cell_type": "code",
   "execution_count": 2,
   "id": "functioning-slave",
   "metadata": {},
   "outputs": [
    {
     "name": "stdout",
     "output_type": "stream",
     "text": [
      "Dataset               = 1\n",
      "Method                = levmar\n",
      "Statistic             = chi2gehrels\n",
      "Initial fit statistic = 19.355\n",
      "Final fit statistic   = 9.79605 at function evaluation 6\n",
      "Data points           = 4\n",
      "Degrees of freedom    = 2\n",
      "Probability [Q-value] = 0.0074613\n",
      "Reduced statistic     = 4.89803\n",
      "Change in statistic   = 9.55892\n",
      "   mdl.c0         -2.58909     +/- 2.33419     \n",
      "   mdl.c1         1.73737      +/- 0.597081    \n"
     ]
    }
   ],
   "source": [
    "load_arrays(1, [1, 2, 5, 10], [9, -2, 12, 14])\n",
    "set_source(polynom1d.mdl)\n",
    "mdl.c1.thaw()\n",
    "fit()"
   ]
  },
  {
   "cell_type": "code",
   "execution_count": 3,
   "id": "korean-swing",
   "metadata": {},
   "outputs": [
    {
     "data": {
      "image/png": "[encoded data removed]",
      "text/plain": [
       "<Figure size 432x288 with 1 Axes>"
      ]
     },
     "metadata": {
      "needs_background": "light"
     },
     "output_type": "display_data"
    }
   ],
   "source": [
    "plot_fit()"
   ]
  },
  {
   "cell_type": "code",
   "execution_count": 4,
   "id": "respected-potato",
   "metadata": {},
   "outputs": [
    {
     "name": "stdout",
     "output_type": "stream",
     "text": [
      "Dataset               = 1\n",
      "Statistic             = chi2gehrels\n",
      "Fit statistic value   = 9.79605\n",
      "Data points           = 4\n",
      "Degrees of freedom    = 2\n",
      "Probability [Q-value] = 0.0074613\n",
      "Reduced statistic     = 4.89803\n"
     ]
    }
   ],
   "source": [
    "calc_stat_info()"
   ]
  },
  {
   "cell_type": "markdown",
   "id": "prostate-forest",
   "metadata": {
    "tags": []
   },
   "source": [
    "The problem is that the reduced statistic is ~5, which means that some of the error analysis routines will error out:"
   ]
  },
  {
   "cell_type": "code",
   "execution_count": 5,
   "id": "strong-merchandise",
   "metadata": {},
   "outputs": [
    {
     "name": "stdout",
     "output_type": "stream",
     "text": [
      "Dataset               = 1\n",
      "Confidence Method     = covariance\n",
      "Iterative Fit Method  = None\n",
      "Fitting Method        = levmar\n",
      "Statistic             = chi2gehrels\n",
      "covariance 1-sigma (68.2689%) bounds:\n",
      "   Param            Best-Fit  Lower Bound  Upper Bound\n",
      "   -----            --------  -----------  -----------\n",
      "   mdl.c0           -2.58909     -2.33419      2.33419\n",
      "   mdl.c1            1.73737    -0.597081     0.597081\n"
     ]
    }
   ],
   "source": [
    "covar()"
   ]
  },
  {
   "cell_type": "markdown",
   "id": "conceptual-valley",
   "metadata": {},
   "source": [
    "Unfortunately this is a problem:"
   ]
  },
  {
   "cell_type": "code",
   "execution_count": 6,
   "id": "cultural-pilot",
   "metadata": {},
   "outputs": [
    {
     "ename": "EstErr",
     "evalue": "reduced statistic larger than 3",
     "output_type": "error",
     "traceback": [
      "\u001b[0;31m---------------------------------------------------------------------------\u001b[0m",
      "\u001b[0;31mEstErr\u001b[0m                                    Traceback (most recent call last)",
      "\u001b[0;32m<ipython-input-6-a22cf0ef6f8d>\u001b[0m in \u001b[0;36m<module>\u001b[0;34m\u001b[0m\n\u001b[0;32m----> 1\u001b[0;31m \u001b[0mconf\u001b[0m\u001b[0;34m(\u001b[0m\u001b[0;34m)\u001b[0m\u001b[0;34m\u001b[0m\u001b[0;34m\u001b[0m\u001b[0m\n\u001b[0m",
      "\u001b[0;32m<string>\u001b[0m in \u001b[0;36mconf\u001b[0;34m(*args)\u001b[0m\n",
      "\u001b[0;32m~/anaconda/envs/ciao413/lib/python3.8/site-packages/sherpa/ui/utils.py\u001b[0m in \u001b[0;36mconf\u001b[0;34m(self, *args)\u001b[0m\n\u001b[1;32m   9901\u001b[0m \u001b[0;34m\u001b[0m\u001b[0m\n\u001b[1;32m   9902\u001b[0m         \"\"\"\n\u001b[0;32m-> 9903\u001b[0;31m         \u001b[0mself\u001b[0m\u001b[0;34m.\u001b[0m\u001b[0m_confidence_results\u001b[0m \u001b[0;34m=\u001b[0m \u001b[0mself\u001b[0m\u001b[0;34m.\u001b[0m\u001b[0m_est_errors\u001b[0m\u001b[0;34m(\u001b[0m\u001b[0margs\u001b[0m\u001b[0;34m,\u001b[0m \u001b[0;34m'confidence'\u001b[0m\u001b[0;34m)\u001b[0m\u001b[0;34m\u001b[0m\u001b[0;34m\u001b[0m\u001b[0m\n\u001b[0m\u001b[1;32m   9904\u001b[0m \u001b[0;34m\u001b[0m\u001b[0m\n\u001b[1;32m   9905\u001b[0m     \u001b[0;31m# DOC-TODO: add a deprecation note?\u001b[0m\u001b[0;34m\u001b[0m\u001b[0;34m\u001b[0m\u001b[0;34m\u001b[0m\u001b[0m\n",
      "\u001b[0;32m~/anaconda/envs/ciao413/lib/python3.8/site-packages/sherpa/ui/utils.py\u001b[0m in \u001b[0;36m_est_errors\u001b[0;34m(self, args, methodname)\u001b[0m\n\u001b[1;32m   9573\u001b[0m             \u001b[0mparlist\u001b[0m \u001b[0;34m=\u001b[0m \u001b[0;32mNone\u001b[0m\u001b[0;34m\u001b[0m\u001b[0;34m\u001b[0m\u001b[0m\n\u001b[1;32m   9574\u001b[0m         \u001b[0mids\u001b[0m\u001b[0;34m,\u001b[0m \u001b[0mf\u001b[0m \u001b[0;34m=\u001b[0m \u001b[0mself\u001b[0m\u001b[0;34m.\u001b[0m\u001b[0m_get_fit\u001b[0m\u001b[0;34m(\u001b[0m\u001b[0mid\u001b[0m\u001b[0;34m,\u001b[0m \u001b[0motherids\u001b[0m\u001b[0;34m,\u001b[0m \u001b[0mself\u001b[0m\u001b[0;34m.\u001b[0m\u001b[0m_estmethods\u001b[0m\u001b[0;34m[\u001b[0m\u001b[0mmethodname\u001b[0m\u001b[0;34m]\u001b[0m\u001b[0;34m)\u001b[0m\u001b[0;34m\u001b[0m\u001b[0;34m\u001b[0m\u001b[0m\n\u001b[0;32m-> 9575\u001b[0;31m         \u001b[0mres\u001b[0m \u001b[0;34m=\u001b[0m \u001b[0mf\u001b[0m\u001b[0;34m.\u001b[0m\u001b[0mest_errors\u001b[0m\u001b[0;34m(\u001b[0m\u001b[0mself\u001b[0m\u001b[0;34m.\u001b[0m\u001b[0m_methods\u001b[0m\u001b[0;34m,\u001b[0m \u001b[0mparlist\u001b[0m\u001b[0;34m)\u001b[0m\u001b[0;34m\u001b[0m\u001b[0;34m\u001b[0m\u001b[0m\n\u001b[0m\u001b[1;32m   9576\u001b[0m         \u001b[0mres\u001b[0m\u001b[0;34m.\u001b[0m\u001b[0mdatasets\u001b[0m \u001b[0;34m=\u001b[0m \u001b[0mids\u001b[0m\u001b[0;34m\u001b[0m\u001b[0;34m\u001b[0m\u001b[0m\n\u001b[1;32m   9577\u001b[0m         \u001b[0minfo\u001b[0m\u001b[0;34m(\u001b[0m\u001b[0mres\u001b[0m\u001b[0;34m.\u001b[0m\u001b[0mformat\u001b[0m\u001b[0;34m(\u001b[0m\u001b[0;34m)\u001b[0m\u001b[0;34m)\u001b[0m\u001b[0;34m\u001b[0m\u001b[0;34m\u001b[0m\u001b[0m\n",
      "\u001b[0;32m~/anaconda/envs/ciao413/lib/python3.8/site-packages/sherpa/fit.py\u001b[0m in \u001b[0;36mrun\u001b[0;34m(fit, *args, **kwargs)\u001b[0m\n\u001b[1;32m     54\u001b[0m         \u001b[0;32melse\u001b[0m\u001b[0;34m:\u001b[0m\u001b[0;34m\u001b[0m\u001b[0;34m\u001b[0m\u001b[0m\n\u001b[1;32m     55\u001b[0m             \u001b[0mfit\u001b[0m\u001b[0;34m.\u001b[0m\u001b[0mmodel\u001b[0m\u001b[0;34m.\u001b[0m\u001b[0mstartup\u001b[0m\u001b[0;34m(\u001b[0m\u001b[0;32mTrue\u001b[0m\u001b[0;34m)\u001b[0m\u001b[0;34m\u001b[0m\u001b[0;34m\u001b[0m\u001b[0m\n\u001b[0;32m---> 56\u001b[0;31m         \u001b[0mresult\u001b[0m \u001b[0;34m=\u001b[0m \u001b[0mfunc\u001b[0m\u001b[0;34m(\u001b[0m\u001b[0mfit\u001b[0m\u001b[0;34m,\u001b[0m \u001b[0;34m*\u001b[0m\u001b[0margs\u001b[0m\u001b[0;34m,\u001b[0m \u001b[0;34m**\u001b[0m\u001b[0mkwargs\u001b[0m\u001b[0;34m)\u001b[0m\u001b[0;34m\u001b[0m\u001b[0;34m\u001b[0m\u001b[0m\n\u001b[0m\u001b[1;32m     57\u001b[0m         \u001b[0mfit\u001b[0m\u001b[0;34m.\u001b[0m\u001b[0mmodel\u001b[0m\u001b[0;34m.\u001b[0m\u001b[0mteardown\u001b[0m\u001b[0;34m(\u001b[0m\u001b[0;34m)\u001b[0m\u001b[0;34m\u001b[0m\u001b[0;34m\u001b[0m\u001b[0m\n\u001b[1;32m     58\u001b[0m         \u001b[0;32mreturn\u001b[0m \u001b[0mresult\u001b[0m\u001b[0;34m\u001b[0m\u001b[0;34m\u001b[0m\u001b[0m\n",
      "\u001b[0;32m~/anaconda/envs/ciao413/lib/python3.8/site-packages/sherpa/fit.py\u001b[0m in \u001b[0;36mest_errors\u001b[0;34m(self, methoddict, parlist)\u001b[0m\n\u001b[1;32m   1440\u001b[0m             if (hasattr(self.estmethod, \"max_rstat\") and\n\u001b[1;32m   1441\u001b[0m                     (self.calc_stat() / dof) > self.estmethod.max_rstat):\n\u001b[0;32m-> 1442\u001b[0;31m                 \u001b[0;32mraise\u001b[0m \u001b[0mEstErr\u001b[0m\u001b[0;34m(\u001b[0m\u001b[0;34m'rstat>max'\u001b[0m\u001b[0;34m,\u001b[0m \u001b[0mstr\u001b[0m\u001b[0;34m(\u001b[0m\u001b[0mself\u001b[0m\u001b[0;34m.\u001b[0m\u001b[0mestmethod\u001b[0m\u001b[0;34m.\u001b[0m\u001b[0mmax_rstat\u001b[0m\u001b[0;34m)\u001b[0m\u001b[0;34m)\u001b[0m\u001b[0;34m\u001b[0m\u001b[0;34m\u001b[0m\u001b[0m\n\u001b[0m\u001b[1;32m   1443\u001b[0m \u001b[0;34m\u001b[0m\u001b[0m\n\u001b[1;32m   1444\u001b[0m         \u001b[0;31m# If statistic is chi-squared, change fitting method to\u001b[0m\u001b[0;34m\u001b[0m\u001b[0;34m\u001b[0m\u001b[0;34m\u001b[0m\u001b[0m\n",
      "\u001b[0;31mEstErr\u001b[0m: reduced statistic larger than 3"
     ]
    }
   ],
   "source": [
    "conf()"
   ]
  },
  {
   "cell_type": "markdown",
   "id": "identical-parts",
   "metadata": {
    "tags": []
   },
   "source": [
    "# What does this mean?\n",
    "\n",
    "\n",
    "The error-analysis routines (well, those other than `covar`) are essentially trying to climb up from the minimum until we are a given height from the minimum. We do have a couple of routines that let us view the search surface. Here we look at \"region-projection\" (2D) and \"interval-projection\" (1D): "
   ]
  },
  {
   "cell_type": "code",
   "execution_count": 7,
   "id": "metric-wellington",
   "metadata": {},
   "outputs": [
    {
     "data": {
      "image/png": "[encoded data removed]",
      "text/plain": [
       "<Figure size 432x288 with 1 Axes>"
      ]
     },
     "metadata": {
      "needs_background": "light"
     },
     "output_type": "display_data"
    }
   ],
   "source": [
    "reg_proj(mdl.c0, mdl.c1)"
   ]
  },
  {
   "cell_type": "code",
   "execution_count": 8,
   "id": "bronze-ordering",
   "metadata": {},
   "outputs": [
    {
     "data": {
      "image/png": "[encoded data removed]",
      "text/plain": [
       "<Figure size 432x288 with 1 Axes>"
      ]
     },
     "metadata": {
      "needs_background": "light"
     },
     "output_type": "display_data"
    }
   ],
   "source": [
    "int_proj(mdl.c0)"
   ]
  },
  {
   "cell_type": "code",
   "execution_count": 9,
   "id": "academic-rings",
   "metadata": {},
   "outputs": [
    {
     "data": {
      "image/png": "[encoded data removed]",
      "text/plain": [
       "<Figure size 432x288 with 1 Axes>"
      ]
     },
     "metadata": {
      "needs_background": "light"
     },
     "output_type": "display_data"
    }
   ],
   "source": [
    "int_proj(mdl.c1)"
   ]
  },
  {
   "cell_type": "markdown",
   "id": "prerequisite-convention",
   "metadata": {},
   "source": [
    "The search surface here is actually quite \"nicely behaved\" so these don't actually look bad - the 1D values look somewhat parabolic and the 2D version is nicely bounded.\n",
    "\n",
    "The problem here is that we have a \"bad\" point, that just keeps us away getting to a \"good fit\". The residual plot doesn't make it obvious of this:"
   ]
  },
  {
   "cell_type": "code",
   "execution_count": 10,
   "id": "blond-beverage",
   "metadata": {},
   "outputs": [
    {
     "data": {
      "image/png": "[encoded data removed]",
      "text/plain": [
       "<Figure size 432x288 with 2 Axes>"
      ]
     },
     "metadata": {
      "needs_background": "light"
     },
     "output_type": "display_data"
    }
   ],
   "source": [
    "plot_fit_resid()"
   ]
  },
  {
   "cell_type": "markdown",
   "id": "exciting-oriental",
   "metadata": {
    "tags": []
   },
   "source": [
    "We can try ignoring values, such as the second point:"
   ]
  },
  {
   "cell_type": "code",
   "execution_count": 11,
   "id": "electoral-inside",
   "metadata": {},
   "outputs": [
    {
     "data": {
      "image/png": "[encoded data removed]",
      "text/plain": [
       "<Figure size 432x288 with 2 Axes>"
      ]
     },
     "metadata": {
      "needs_background": "light"
     },
     "output_type": "display_data"
    }
   ],
   "source": [
    "ignore(1.5, 2.5)\n",
    "\n",
    "plot_fit_resid()"
   ]
  },
  {
   "cell_type": "code",
   "execution_count": 12,
   "id": "revised-vermont",
   "metadata": {},
   "outputs": [
    {
     "name": "stdout",
     "output_type": "stream",
     "text": [
      "Dataset               = 1\n",
      "Method                = levmar\n",
      "Statistic             = chi2gehrels\n",
      "Initial fit statistic = 7.40466\n",
      "Final fit statistic   = 0.0196631 at function evaluation 6\n",
      "Data points           = 3\n",
      "Degrees of freedom    = 1\n",
      "Probability [Q-value] = 0.888482\n",
      "Reduced statistic     = 0.0196631\n",
      "Change in statistic   = 7.385\n",
      "   mdl.c0         8.68041      +/- 4.29407     \n",
      "   mdl.c1         0.558286     +/- 0.706193    \n"
     ]
    }
   ],
   "source": [
    "fit()"
   ]
  },
  {
   "cell_type": "code",
   "execution_count": 13,
   "id": "sublime-dining",
   "metadata": {},
   "outputs": [
    {
     "data": {
      "image/png": "[encoded data removed]",
      "text/plain": [
       "<Figure size 432x288 with 1 Axes>"
      ]
     },
     "metadata": {
      "needs_background": "light"
     },
     "output_type": "display_data"
    }
   ],
   "source": [
    "plot_fit()"
   ]
  },
  {
   "cell_type": "code",
   "execution_count": 14,
   "id": "retired-amendment",
   "metadata": {},
   "outputs": [
    {
     "name": "stdout",
     "output_type": "stream",
     "text": [
      "Dataset               = 1\n",
      "Statistic             = chi2gehrels\n",
      "Fit statistic value   = 0.0196631\n",
      "Data points           = 3\n",
      "Degrees of freedom    = 1\n",
      "Probability [Q-value] = 0.888482\n",
      "Reduced statistic     = 0.0196631\n"
     ]
    }
   ],
   "source": [
    "calc_stat_info()"
   ]
  },
  {
   "cell_type": "markdown",
   "id": "stretch-communist",
   "metadata": {},
   "source": [
    "For reference we can use `get_stat_info`, which returns a structure for each dataset:"
   ]
  },
  {
   "cell_type": "code",
   "execution_count": 15,
   "id": "preceding-warrior",
   "metadata": {},
   "outputs": [
    {
     "data": {
      "text/plain": [
       "[<Statistic information results instance>]"
      ]
     },
     "execution_count": 15,
     "metadata": {},
     "output_type": "execute_result"
    }
   ],
   "source": [
    "sinfo = get_stat_info()\n",
    "sinfo"
   ]
  },
  {
   "cell_type": "code",
   "execution_count": 16,
   "id": "original-kazakhstan",
   "metadata": {},
   "outputs": [
    {
     "data": {
      "text/html": [
       "<style>/*\n",
       "Copyright (C) 2020  Smithsonian Astrophysical Observatory\n",
       "\n",
       "\n",
       " This program is free software; you can redistribute it and/or modify\n",
       " it under the terms of the GNU General Public License as published by\n",
       " the Free Software Foundation; either version 3 of the License, or\n",
       " (at your option) any later version.\n",
       "\n",
       " This program is distributed in the hope that it will be useful,\n",
       " but WITHOUT ANY WARRANTY; without even the implied warranty of\n",
       " MERCHANTABILITY or FITNESS FOR A PARTICULAR PURPOSE.  See the\n",
       " GNU General Public License for more details.\n",
       "\n",
       " You should have received a copy of the GNU General Public License along\n",
       " with this program; if not, write to the Free Software Foundation, Inc.,\n",
       " 51 Franklin Street, Fifth Floor, Boston, MA 02110-1301 USA.\n",
       "\n",
       "*/\n",
       "\n",
       ":root {\n",
       "  --sherpa-border-color: var(--jp-border-color2, #e0e0e0);\n",
       "  --sherpa-background-color: var(--jp-layout-color0, white);\n",
       "  --sherpa-background-color-row-even: var(--jp-layout-color1, white);\n",
       "  --sherpa-background-color-row-odd: var(--jp-layout-color2, #eeeeee);\n",
       "\n",
       "  /* https://medium.com/ge-design/iot-cool-gray-is-a-great-background-color-for-data-visualization-ebf18c318418 */\n",
       "  --sherpa-background-color-dark1: #EBEFF2;\n",
       "  --sherpa-background-color-dark2: #D8E0E5;\n",
       "}\n",
       "\n",
       "div.sherpa-text-fallback {\n",
       "    display: none;\n",
       "}\n",
       "\n",
       "div.sherpa {\n",
       "    display: block;\n",
       "}\n",
       "\n",
       "div.sherpa details summary {\n",
       "    display: list-item;  /* needed for notebook, not lab */\n",
       "    font-size: larger;\n",
       "}\n",
       "\n",
       "div.sherpa details div.datavals {\n",
       "    display: grid;\n",
       "    grid-template-columns: 1fr 3fr;\n",
       "    column-gap: 0.5em;\n",
       "}\n",
       "\n",
       "div.sherpa div.dataname {\n",
       "    font-weight: bold;\n",
       "    border-right: 1px solid var(--sherpa-border-color);\n",
       "}\n",
       "\n",
       "div.sherpa div.dataval { }\n",
       "\n",
       "div.sherpa div.datavals div:nth-child(4n + 1) ,\n",
       "div.sherpa div.datavals div:nth-child(4n + 2) {\n",
       "    background: var(--sherpa-background-color-row-odd);\n",
       "}\n",
       "\n",
       "div.sherpa table.model tbody {\n",
       "    border-bottom: 1px solid var(--sherpa-border-color);\n",
       "}\n",
       "\n",
       "div.sherpa table.model tr.block {\n",
       "    border-top: 1px solid var(--sherpa-border-color);\n",
       "}\n",
       "\n",
       "div.sherpa table.model th.model-odd ,\n",
       "div.sherpa table.model th.model-even {\n",
       "    border-right: 1px solid var(--sherpa-border-color);\n",
       "}\n",
       "\n",
       "div.sherpa table.model th.model-odd {\n",
       "    background: var(--sherpa-background-color-dark1);\n",
       "}\n",
       "\n",
       "div.sherpa table.model th.model-even {\n",
       "    background: var(--sherpa-background-color-dark2);\n",
       "}\n",
       "\n",
       "div.sherpa .failed {\n",
       "    background: orange;\n",
       "    font-size: large;\n",
       "    padding: 1em;\n",
       "}\n",
       "</style><div class=\"sherpa-text-fallback\">&lt;Statistic information results instance&gt;</div><div hidden class=\"sherpa\"><details open><summary>Statistics summary (7)</summary><div class=\"datavals\"><div class=\"dataname\">Dataset</div><div class=\"dataval\">1</div><div class=\"dataname\">Statistic</div><div class=\"dataval\">chi2gehrels</div><div class=\"dataname\">Value</div><div class=\"dataval\">0.0196631</div><div class=\"dataname\">Number of points</div><div class=\"dataval\">3</div><div class=\"dataname\">Degrees of freedom</div><div class=\"dataval\">1</div><div class=\"dataname\">Reduced statistic</div><div class=\"dataval\">0.0196631</div><div class=\"dataname\">Probability (Q-value)</div><div class=\"dataval\">0.888482</div></div></details></div>"
      ],
      "text/plain": [
       "<Statistic information results instance>"
      ]
     },
     "execution_count": 16,
     "metadata": {},
     "output_type": "execute_result"
    }
   ],
   "source": [
    "sinfo[0]  # rich text interface"
   ]
  },
  {
   "cell_type": "markdown",
   "id": "right-choir",
   "metadata": {},
   "source": [
    "This looks better, and we can now use `conf`:"
   ]
  },
  {
   "cell_type": "code",
   "execution_count": 17,
   "id": "wooden-basics",
   "metadata": {},
   "outputs": [
    {
     "name": "stdout",
     "output_type": "stream",
     "text": [
      "mdl.c0 lower bound:\t-4.29407\n",
      "mdl.c0 upper bound:\t4.29407\n",
      "mdl.c1 lower bound:\t-0.706193\n",
      "mdl.c1 upper bound:\t0.706193\n",
      "Dataset               = 1\n",
      "Confidence Method     = confidence\n",
      "Iterative Fit Method  = None\n",
      "Fitting Method        = levmar\n",
      "Statistic             = chi2gehrels\n",
      "confidence 1-sigma (68.2689%) bounds:\n",
      "   Param            Best-Fit  Lower Bound  Upper Bound\n",
      "   -----            --------  -----------  -----------\n",
      "   mdl.c0            8.68041     -4.29407      4.29407\n",
      "   mdl.c1           0.558286    -0.706193     0.706193\n"
     ]
    }
   ],
   "source": [
    "conf()"
   ]
  },
  {
   "cell_type": "code",
   "execution_count": 18,
   "id": "sublime-parish",
   "metadata": {},
   "outputs": [
    {
     "data": {
      "text/html": [
       "<style>/*\n",
       "Copyright (C) 2020  Smithsonian Astrophysical Observatory\n",
       "\n",
       "\n",
       " This program is free software; you can redistribute it and/or modify\n",
       " it under the terms of the GNU General Public License as published by\n",
       " the Free Software Foundation; either version 3 of the License, or\n",
       " (at your option) any later version.\n",
       "\n",
       " This program is distributed in the hope that it will be useful,\n",
       " but WITHOUT ANY WARRANTY; without even the implied warranty of\n",
       " MERCHANTABILITY or FITNESS FOR A PARTICULAR PURPOSE.  See the\n",
       " GNU General Public License for more details.\n",
       "\n",
       " You should have received a copy of the GNU General Public License along\n",
       " with this program; if not, write to the Free Software Foundation, Inc.,\n",
       " 51 Franklin Street, Fifth Floor, Boston, MA 02110-1301 USA.\n",
       "\n",
       "*/\n",
       "\n",
       ":root {\n",
       "  --sherpa-border-color: var(--jp-border-color2, #e0e0e0);\n",
       "  --sherpa-background-color: var(--jp-layout-color0, white);\n",
       "  --sherpa-background-color-row-even: var(--jp-layout-color1, white);\n",
       "  --sherpa-background-color-row-odd: var(--jp-layout-color2, #eeeeee);\n",
       "\n",
       "  /* https://medium.com/ge-design/iot-cool-gray-is-a-great-background-color-for-data-visualization-ebf18c318418 */\n",
       "  --sherpa-background-color-dark1: #EBEFF2;\n",
       "  --sherpa-background-color-dark2: #D8E0E5;\n",
       "}\n",
       "\n",
       "div.sherpa-text-fallback {\n",
       "    display: none;\n",
       "}\n",
       "\n",
       "div.sherpa {\n",
       "    display: block;\n",
       "}\n",
       "\n",
       "div.sherpa details summary {\n",
       "    display: list-item;  /* needed for notebook, not lab */\n",
       "    font-size: larger;\n",
       "}\n",
       "\n",
       "div.sherpa details div.datavals {\n",
       "    display: grid;\n",
       "    grid-template-columns: 1fr 3fr;\n",
       "    column-gap: 0.5em;\n",
       "}\n",
       "\n",
       "div.sherpa div.dataname {\n",
       "    font-weight: bold;\n",
       "    border-right: 1px solid var(--sherpa-border-color);\n",
       "}\n",
       "\n",
       "div.sherpa div.dataval { }\n",
       "\n",
       "div.sherpa div.datavals div:nth-child(4n + 1) ,\n",
       "div.sherpa div.datavals div:nth-child(4n + 2) {\n",
       "    background: var(--sherpa-background-color-row-odd);\n",
       "}\n",
       "\n",
       "div.sherpa table.model tbody {\n",
       "    border-bottom: 1px solid var(--sherpa-border-color);\n",
       "}\n",
       "\n",
       "div.sherpa table.model tr.block {\n",
       "    border-top: 1px solid var(--sherpa-border-color);\n",
       "}\n",
       "\n",
       "div.sherpa table.model th.model-odd ,\n",
       "div.sherpa table.model th.model-even {\n",
       "    border-right: 1px solid var(--sherpa-border-color);\n",
       "}\n",
       "\n",
       "div.sherpa table.model th.model-odd {\n",
       "    background: var(--sherpa-background-color-dark1);\n",
       "}\n",
       "\n",
       "div.sherpa table.model th.model-even {\n",
       "    background: var(--sherpa-background-color-dark2);\n",
       "}\n",
       "\n",
       "div.sherpa .failed {\n",
       "    background: orange;\n",
       "    font-size: large;\n",
       "    padding: 1em;\n",
       "}\n",
       "</style><div class=\"sherpa-text-fallback\">&lt;confidence results instance&gt;</div><div hidden class=\"sherpa\"><details open><summary>confidence 1&#963; (68.2689%) bounds</summary><table><thead><tr><th>Parameter</th><th>Best-fit value</th><th>Lower Bound</th><th>Upper Bound</th></tr></thead><tbody><tr><td>mdl.c0</td><td>     8.68041</td><td>    -4.29407</td><td>     4.29407</td></tr><tr><td>mdl.c1</td><td>    0.558286</td><td>   -0.706193</td><td>    0.706193</td></tr></tbody></table></details><details><summary>Summary (3)</summary><div class=\"datavals\"><div class=\"dataname\">Dataset</div><div class=\"dataval\">1</div><div class=\"dataname\">Fitting Method</div><div class=\"dataval\">levmar</div><div class=\"dataname\">Statistic</div><div class=\"dataval\">chi2gehrels</div></div></details></div>"
      ],
      "text/plain": [
       "<confidence results instance>"
      ]
     },
     "execution_count": 18,
     "metadata": {},
     "output_type": "execute_result"
    }
   ],
   "source": [
    "get_conf_results()"
   ]
  },
  {
   "cell_type": "markdown",
   "id": "expensive-commander",
   "metadata": {},
   "source": [
    "# So is it just a case of ignoring a single point?\n",
    "\n",
    "Unfortunately no. For this dataset we could ignore different points and still get a \"good\" fit:"
   ]
  },
  {
   "cell_type": "code",
   "execution_count": 19,
   "id": "greater-austria",
   "metadata": {},
   "outputs": [
    {
     "name": "stdout",
     "output_type": "stream",
     "text": [
      "Dataset               = 1\n",
      "Method                = levmar\n",
      "Statistic             = chi2gehrels\n",
      "Initial fit statistic = 39.9838\n",
      "Final fit statistic   = 2.50522 at function evaluation 6\n",
      "Data points           = 3\n",
      "Degrees of freedom    = 1\n",
      "Probability [Q-value] = 0.113469\n",
      "Reduced statistic     = 2.50522\n",
      "Change in statistic   = 37.4786\n",
      "   mdl.c0         -5.83601     +/- 2.62572     \n",
      "   mdl.c1         2.25876      +/- 0.627529    \n"
     ]
    },
    {
     "data": {
      "image/png": "[encoded data removed]",
      "text/plain": [
       "<Figure size 432x288 with 2 Axes>"
      ]
     },
     "metadata": {
      "needs_background": "light"
     },
     "output_type": "display_data"
    }
   ],
   "source": [
    "notice()\n",
    "ignore(None, 1.5)  # ignore the first point this time\n",
    "fit()\n",
    "plot_fit_resid()"
   ]
  },
  {
   "cell_type": "markdown",
   "id": "baking-baptist",
   "metadata": {},
   "source": [
    "This is not as good, but it passes the \"magical\" reduced-statistic < 3 condition, so:"
   ]
  },
  {
   "cell_type": "code",
   "execution_count": 20,
   "id": "prompt-illness",
   "metadata": {},
   "outputs": [
    {
     "name": "stdout",
     "output_type": "stream",
     "text": [
      "mdl.c0 lower bound:\t-2.62572\n",
      "mdl.c0 upper bound:\t2.62572\n",
      "mdl.c1 lower bound:\t-0.627529\n",
      "mdl.c1 upper bound:\t0.627529\n",
      "Dataset               = 1\n",
      "Confidence Method     = confidence\n",
      "Iterative Fit Method  = None\n",
      "Fitting Method        = levmar\n",
      "Statistic             = chi2gehrels\n",
      "confidence 1-sigma (68.2689%) bounds:\n",
      "   Param            Best-Fit  Lower Bound  Upper Bound\n",
      "   -----            --------  -----------  -----------\n",
      "   mdl.c0           -5.83601     -2.62572      2.62572\n",
      "   mdl.c1            2.25876    -0.627529     0.627529\n"
     ]
    }
   ],
   "source": [
    "conf()"
   ]
  },
  {
   "cell_type": "markdown",
   "id": "painted-update",
   "metadata": {},
   "source": [
    "# Okay, can I just ignore the limit?\n",
    "\n",
    "Well, there is an option you can do this with:"
   ]
  },
  {
   "cell_type": "code",
   "execution_count": 21,
   "id": "hundred-reply",
   "metadata": {},
   "outputs": [
    {
     "data": {
      "text/plain": [
       "{'sigma': 1,\n",
       " 'eps': 0.01,\n",
       " 'maxiters': 200,\n",
       " 'soft_limits': False,\n",
       " 'remin': 0.01,\n",
       " 'fast': False,\n",
       " 'parallel': True,\n",
       " 'numcores': 12,\n",
       " 'maxfits': 5,\n",
       " 'max_rstat': 3,\n",
       " 'tol': 0.2,\n",
       " 'verbose': False,\n",
       " 'openinterval': False}"
      ]
     },
     "execution_count": 21,
     "metadata": {},
     "output_type": "execute_result"
    }
   ],
   "source": [
    "get_conf_opt()"
   ]
  },
  {
   "cell_type": "code",
   "execution_count": 22,
   "id": "surgical-puzzle",
   "metadata": {},
   "outputs": [
    {
     "name": "stdout",
     "output_type": "stream",
     "text": [
      "Dataset               = 1\n",
      "Method                = levmar\n",
      "Statistic             = chi2gehrels\n",
      "Initial fit statistic = 11.8131\n",
      "Final fit statistic   = 9.79605 at function evaluation 6\n",
      "Data points           = 4\n",
      "Degrees of freedom    = 2\n",
      "Probability [Q-value] = 0.0074613\n",
      "Reduced statistic     = 4.89803\n",
      "Change in statistic   = 2.01704\n",
      "   mdl.c0         -2.58909     +/- 2.33419     \n",
      "   mdl.c1         1.73737      +/- 0.597081    \n"
     ]
    },
    {
     "ename": "EstErr",
     "evalue": "reduced statistic larger than 3",
     "output_type": "error",
     "traceback": [
      "\u001b[0;31m---------------------------------------------------------------------------\u001b[0m",
      "\u001b[0;31mEstErr\u001b[0m                                    Traceback (most recent call last)",
      "\u001b[0;32m<ipython-input-22-1260df7b13a3>\u001b[0m in \u001b[0;36m<module>\u001b[0;34m\u001b[0m\n\u001b[1;32m      1\u001b[0m \u001b[0mnotice\u001b[0m\u001b[0;34m(\u001b[0m\u001b[0;34m)\u001b[0m\u001b[0;34m\u001b[0m\u001b[0;34m\u001b[0m\u001b[0m\n\u001b[1;32m      2\u001b[0m \u001b[0mfit\u001b[0m\u001b[0;34m(\u001b[0m\u001b[0;34m)\u001b[0m\u001b[0;34m\u001b[0m\u001b[0;34m\u001b[0m\u001b[0m\n\u001b[0;32m----> 3\u001b[0;31m \u001b[0mconf\u001b[0m\u001b[0;34m(\u001b[0m\u001b[0;34m)\u001b[0m\u001b[0;34m\u001b[0m\u001b[0;34m\u001b[0m\u001b[0m\n\u001b[0m",
      "\u001b[0;32m<string>\u001b[0m in \u001b[0;36mconf\u001b[0;34m(*args)\u001b[0m\n",
      "\u001b[0;32m~/anaconda/envs/ciao413/lib/python3.8/site-packages/sherpa/ui/utils.py\u001b[0m in \u001b[0;36mconf\u001b[0;34m(self, *args)\u001b[0m\n\u001b[1;32m   9901\u001b[0m \u001b[0;34m\u001b[0m\u001b[0m\n\u001b[1;32m   9902\u001b[0m         \"\"\"\n\u001b[0;32m-> 9903\u001b[0;31m         \u001b[0mself\u001b[0m\u001b[0;34m.\u001b[0m\u001b[0m_confidence_results\u001b[0m \u001b[0;34m=\u001b[0m \u001b[0mself\u001b[0m\u001b[0;34m.\u001b[0m\u001b[0m_est_errors\u001b[0m\u001b[0;34m(\u001b[0m\u001b[0margs\u001b[0m\u001b[0;34m,\u001b[0m \u001b[0;34m'confidence'\u001b[0m\u001b[0;34m)\u001b[0m\u001b[0;34m\u001b[0m\u001b[0;34m\u001b[0m\u001b[0m\n\u001b[0m\u001b[1;32m   9904\u001b[0m \u001b[0;34m\u001b[0m\u001b[0m\n\u001b[1;32m   9905\u001b[0m     \u001b[0;31m# DOC-TODO: add a deprecation note?\u001b[0m\u001b[0;34m\u001b[0m\u001b[0;34m\u001b[0m\u001b[0;34m\u001b[0m\u001b[0m\n",
      "\u001b[0;32m~/anaconda/envs/ciao413/lib/python3.8/site-packages/sherpa/ui/utils.py\u001b[0m in \u001b[0;36m_est_errors\u001b[0;34m(self, args, methodname)\u001b[0m\n\u001b[1;32m   9573\u001b[0m             \u001b[0mparlist\u001b[0m \u001b[0;34m=\u001b[0m \u001b[0;32mNone\u001b[0m\u001b[0;34m\u001b[0m\u001b[0;34m\u001b[0m\u001b[0m\n\u001b[1;32m   9574\u001b[0m         \u001b[0mids\u001b[0m\u001b[0;34m,\u001b[0m \u001b[0mf\u001b[0m \u001b[0;34m=\u001b[0m \u001b[0mself\u001b[0m\u001b[0;34m.\u001b[0m\u001b[0m_get_fit\u001b[0m\u001b[0;34m(\u001b[0m\u001b[0mid\u001b[0m\u001b[0;34m,\u001b[0m \u001b[0motherids\u001b[0m\u001b[0;34m,\u001b[0m \u001b[0mself\u001b[0m\u001b[0;34m.\u001b[0m\u001b[0m_estmethods\u001b[0m\u001b[0;34m[\u001b[0m\u001b[0mmethodname\u001b[0m\u001b[0;34m]\u001b[0m\u001b[0;34m)\u001b[0m\u001b[0;34m\u001b[0m\u001b[0;34m\u001b[0m\u001b[0m\n\u001b[0;32m-> 9575\u001b[0;31m         \u001b[0mres\u001b[0m \u001b[0;34m=\u001b[0m \u001b[0mf\u001b[0m\u001b[0;34m.\u001b[0m\u001b[0mest_errors\u001b[0m\u001b[0;34m(\u001b[0m\u001b[0mself\u001b[0m\u001b[0;34m.\u001b[0m\u001b[0m_methods\u001b[0m\u001b[0;34m,\u001b[0m \u001b[0mparlist\u001b[0m\u001b[0;34m)\u001b[0m\u001b[0;34m\u001b[0m\u001b[0;34m\u001b[0m\u001b[0m\n\u001b[0m\u001b[1;32m   9576\u001b[0m         \u001b[0mres\u001b[0m\u001b[0;34m.\u001b[0m\u001b[0mdatasets\u001b[0m \u001b[0;34m=\u001b[0m \u001b[0mids\u001b[0m\u001b[0;34m\u001b[0m\u001b[0;34m\u001b[0m\u001b[0m\n\u001b[1;32m   9577\u001b[0m         \u001b[0minfo\u001b[0m\u001b[0;34m(\u001b[0m\u001b[0mres\u001b[0m\u001b[0;34m.\u001b[0m\u001b[0mformat\u001b[0m\u001b[0;34m(\u001b[0m\u001b[0;34m)\u001b[0m\u001b[0;34m)\u001b[0m\u001b[0;34m\u001b[0m\u001b[0;34m\u001b[0m\u001b[0m\n",
      "\u001b[0;32m~/anaconda/envs/ciao413/lib/python3.8/site-packages/sherpa/fit.py\u001b[0m in \u001b[0;36mrun\u001b[0;34m(fit, *args, **kwargs)\u001b[0m\n\u001b[1;32m     54\u001b[0m         \u001b[0;32melse\u001b[0m\u001b[0;34m:\u001b[0m\u001b[0;34m\u001b[0m\u001b[0;34m\u001b[0m\u001b[0m\n\u001b[1;32m     55\u001b[0m             \u001b[0mfit\u001b[0m\u001b[0;34m.\u001b[0m\u001b[0mmodel\u001b[0m\u001b[0;34m.\u001b[0m\u001b[0mstartup\u001b[0m\u001b[0;34m(\u001b[0m\u001b[0;32mTrue\u001b[0m\u001b[0;34m)\u001b[0m\u001b[0;34m\u001b[0m\u001b[0;34m\u001b[0m\u001b[0m\n\u001b[0;32m---> 56\u001b[0;31m         \u001b[0mresult\u001b[0m \u001b[0;34m=\u001b[0m \u001b[0mfunc\u001b[0m\u001b[0;34m(\u001b[0m\u001b[0mfit\u001b[0m\u001b[0;34m,\u001b[0m \u001b[0;34m*\u001b[0m\u001b[0margs\u001b[0m\u001b[0;34m,\u001b[0m \u001b[0;34m**\u001b[0m\u001b[0mkwargs\u001b[0m\u001b[0;34m)\u001b[0m\u001b[0;34m\u001b[0m\u001b[0;34m\u001b[0m\u001b[0m\n\u001b[0m\u001b[1;32m     57\u001b[0m         \u001b[0mfit\u001b[0m\u001b[0;34m.\u001b[0m\u001b[0mmodel\u001b[0m\u001b[0;34m.\u001b[0m\u001b[0mteardown\u001b[0m\u001b[0;34m(\u001b[0m\u001b[0;34m)\u001b[0m\u001b[0;34m\u001b[0m\u001b[0;34m\u001b[0m\u001b[0m\n\u001b[1;32m     58\u001b[0m         \u001b[0;32mreturn\u001b[0m \u001b[0mresult\u001b[0m\u001b[0;34m\u001b[0m\u001b[0;34m\u001b[0m\u001b[0m\n",
      "\u001b[0;32m~/anaconda/envs/ciao413/lib/python3.8/site-packages/sherpa/fit.py\u001b[0m in \u001b[0;36mest_errors\u001b[0;34m(self, methoddict, parlist)\u001b[0m\n\u001b[1;32m   1440\u001b[0m             if (hasattr(self.estmethod, \"max_rstat\") and\n\u001b[1;32m   1441\u001b[0m                     (self.calc_stat() / dof) > self.estmethod.max_rstat):\n\u001b[0;32m-> 1442\u001b[0;31m                 \u001b[0;32mraise\u001b[0m \u001b[0mEstErr\u001b[0m\u001b[0;34m(\u001b[0m\u001b[0;34m'rstat>max'\u001b[0m\u001b[0;34m,\u001b[0m \u001b[0mstr\u001b[0m\u001b[0;34m(\u001b[0m\u001b[0mself\u001b[0m\u001b[0;34m.\u001b[0m\u001b[0mestmethod\u001b[0m\u001b[0;34m.\u001b[0m\u001b[0mmax_rstat\u001b[0m\u001b[0;34m)\u001b[0m\u001b[0;34m)\u001b[0m\u001b[0;34m\u001b[0m\u001b[0;34m\u001b[0m\u001b[0m\n\u001b[0m\u001b[1;32m   1443\u001b[0m \u001b[0;34m\u001b[0m\u001b[0m\n\u001b[1;32m   1444\u001b[0m         \u001b[0;31m# If statistic is chi-squared, change fitting method to\u001b[0m\u001b[0;34m\u001b[0m\u001b[0;34m\u001b[0m\u001b[0;34m\u001b[0m\u001b[0m\n",
      "\u001b[0;31mEstErr\u001b[0m: reduced statistic larger than 3"
     ]
    }
   ],
   "source": [
    "notice()\n",
    "fit()\n",
    "conf()"
   ]
  },
  {
   "cell_type": "code",
   "execution_count": 23,
   "id": "unusual-witness",
   "metadata": {},
   "outputs": [],
   "source": [
    "set_conf_opt('max_rstat', 5)"
   ]
  },
  {
   "cell_type": "code",
   "execution_count": 24,
   "id": "level-baker",
   "metadata": {},
   "outputs": [
    {
     "name": "stdout",
     "output_type": "stream",
     "text": [
      "mdl.c0 lower bound:\t-2.33419\n",
      "mdl.c0 upper bound:\t2.33419\n",
      "mdl.c1 lower bound:\t-0.597081\n",
      "mdl.c1 upper bound:\t0.597081\n",
      "Dataset               = 1\n",
      "Confidence Method     = confidence\n",
      "Iterative Fit Method  = None\n",
      "Fitting Method        = levmar\n",
      "Statistic             = chi2gehrels\n",
      "confidence 1-sigma (68.2689%) bounds:\n",
      "   Param            Best-Fit  Lower Bound  Upper Bound\n",
      "   -----            --------  -----------  -----------\n",
      "   mdl.c0           -2.58909     -2.33419      2.33419\n",
      "   mdl.c1            1.73737    -0.597081     0.597081\n"
     ]
    }
   ],
   "source": [
    "conf()"
   ]
  },
  {
   "cell_type": "markdown",
   "id": "brazilian-pleasure",
   "metadata": {
    "tags": []
   },
   "source": [
    "Please, **do not do this**. I actually think that the `max_rstat = 3` limit is too lax and we really should use a more-stringent limit, but I don't think this would be popular."
   ]
  },
  {
   "cell_type": "code",
   "execution_count": 25,
   "id": "pacific-receptor",
   "metadata": {},
   "outputs": [],
   "source": [
    "set_conf_opt('max_rstat', 3)"
   ]
  },
  {
   "cell_type": "markdown",
   "id": "subtle-medline",
   "metadata": {},
   "source": [
    "# So what can I do?\n",
    "\n",
    "- tweak the range of the independent axis\n",
    "- we may be stuck in a local, rather than global, minimum\n",
    "- modify the model expression\n",
    "- give up and eat ice-cream\n",
    "\n",
    "If we can't tweak the data being fitted then we are probably in a situation that the used model does not represent the data, and **could** be because we are in the wrong area of the search space - so we can try\n",
    "\n",
    "- changing the optimiser ([set_method](https://cxc.cfa.harvard.edu/sherpa/ahelp/set_method.html)), particularly to [\"moncar\"](https://cxc.cfa.harvard.edu/sherpa/ahelp/montecarlo.html) which is likely to be slow, but can search complex surfaces,\n",
    "- or change the model. In this case you should look at [calc_ftest](https://cxc.cfa.harvard.edu/sherpa/ahelp/calc_ftest.html) and [calc_mlr](https://cxc.cfa.harvard.edu/sherpa/ahelp/calc_mlr.html) which let you identify whether one model is \"better\" than the other (**but** there are significant restrictions on how they are used).\n",
    "\n",
    "This is much easier (unfortunately this does not mean it is easy) in an interactive session than in scripts where you are fitting many data sets."
   ]
  },
  {
   "cell_type": "code",
   "execution_count": null,
   "id": "cheap-intranet",
   "metadata": {},
   "outputs": [],
   "source": []
  }
 ],
 "metadata": {
  "kernelspec": {
   "display_name": "Python 3",
   "language": "python",
   "name": "python3"
  },
  "language_info": {
   "codemirror_mode": {
    "name": "ipython",
    "version": 3
   },
   "file_extension": ".py",
   "mimetype": "text/x-python",
   "name": "python",
   "nbconvert_exporter": "python",
   "pygments_lexer": "ipython3",
   "version": "3.8.2"
  }
 },
 "nbformat": 4,
 "nbformat_minor": 5
}
