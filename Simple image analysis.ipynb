{
 "cells": [
  {
   "cell_type": "markdown",
   "id": "tender-panama",
   "metadata": {
    "tags": []
   },
   "source": [
    "# How do I fit 2D data?\n",
    "\n",
    "In this particular case we are talking about image data where we have a 2D array of pixels and we want to describe the images created. We can also try fitting general `(x0, x1, y)` values - where `x0` and `x1` are the independent axes (i.e. coordinates) and y the dependent axis (i.e. data to fit) - but that's a lot harder to visualize.\n",
    "\n",
    "# Why not 1D?\n",
    "\n",
    "Before bothering with a 2D fit I strongly suggest you try  1D fit to the radial profile - it lets you check whether a model makes sense and is generally a lot easier and quicker to fit. However, you do have to fix the center of the profile, and miss out on asymmetric data, so you may have to go full 2D.\n",
    "\n",
    "# A note on notebooks\n",
    "\n",
    "Sherpa uses the [ds9](https://ds9.si.edu/) imaging tool to visualize imaging data. This is great, but it's not well-integrated into a Jupyter notebook, as it involves a separate process (i.e. is not captured within the notebook). So we are going to have to improvise (and if you find it an imposition please let us know as it's an area I want to work on but I need community suport; even better if you want to contribute to Sherpa ;-).\n",
    "\n",
    "# What do we not talk about?\n",
    "\n",
    "There's no discussion of coordinate systems: PHA data lets you fit in `channel`, `energy`, or `wavelength` space and for images we can use the `logical`, `physical`, or `wcs` systems (although I strongly discourage fitting in WCS coordinates).\n",
    "\n",
    "There's limited discussion of filtering the data.\n",
    "\n",
    "There's no discussion of including a PSF term to allow you to recover the true physical size of an object.\n",
    "\n",
    "# What data are we fitting?\n",
    "\n",
    "For this notebook let's simulate an image. It lets me show off simulating a data set **and** ends up with a much-easier-do-describe analysis session, as real data is tricky!"
   ]
  },
  {
   "cell_type": "code",
   "execution_count": 1,
   "id": "historical-evans",
   "metadata": {},
   "outputs": [],
   "source": [
    "import numpy as np\n",
    "from matplotlib import pyplot as plt\n",
    "\n",
    "from sherpa.astro.ui import *"
   ]
  },
  {
   "cell_type": "code",
   "execution_count": 2,
   "id": "engaging-colleague",
   "metadata": {},
   "outputs": [],
   "source": [
    "# We are using random numbers so, to make this notebook repeatable, we fix the seed for the random generator\n",
    "\n",
    "np.random.seed(999)  # my top-secret seed; please don't use"
   ]
  },
  {
   "cell_type": "markdown",
   "id": "relative-duration",
   "metadata": {},
   "source": [
    "Let's create a grid with x0=1 to 50 and x1=1 to 40, thanks to the [NumPy mgrid](https://numpy.org/doc/stable/reference/generated/numpy.mgrid.html) function. I've purposefully chosen a rectangular grid as we unfortunately switch between FORTRAN/FITS indexing (x0, x1) and C indexing (x1, x0) in this process."
   ]
  },
  {
   "cell_type": "code",
   "execution_count": 3,
   "id": "becoming-staff",
   "metadata": {},
   "outputs": [
    {
     "name": "stdout",
     "output_type": "stream",
     "text": [
      "(40, 50)\n",
      "(40, 50)\n"
     ]
    }
   ],
   "source": [
    "x1, x0 = np.mgrid[1:41, 1:51]\n",
    "print(x0.shape)\n",
    "print(x1.shape)"
   ]
  },
  {
   "cell_type": "code",
   "execution_count": 4,
   "id": "outer-senior",
   "metadata": {},
   "outputs": [
    {
     "data": {
      "text/plain": [
       "array([ 1,  2,  3,  4,  5,  6,  7,  8,  9, 10, 11, 12, 13, 14, 15, 16, 17,\n",
       "       18, 19, 20, 21, 22, 23, 24, 25, 26, 27, 28, 29, 30, 31, 32, 33, 34,\n",
       "       35, 36, 37, 38, 39, 40, 41, 42, 43, 44, 45, 46, 47, 48, 49, 50])"
      ]
     },
     "execution_count": 4,
     "metadata": {},
     "output_type": "execute_result"
    }
   ],
   "source": [
    "x0[0]"
   ]
  },
  {
   "cell_type": "code",
   "execution_count": 5,
   "id": "norwegian-atlas",
   "metadata": {},
   "outputs": [
    {
     "data": {
      "text/plain": [
       "array([ 1,  2,  3,  4,  5,  6,  7,  8,  9, 10, 11, 12, 13, 14, 15, 16, 17,\n",
       "       18, 19, 20, 21, 22, 23, 24, 25, 26, 27, 28, 29, 30, 31, 32, 33, 34,\n",
       "       35, 36, 37, 38, 39, 40])"
      ]
     },
     "execution_count": 5,
     "metadata": {},
     "output_type": "execute_result"
    }
   ],
   "source": [
    "x1[:, 0]"
   ]
  },
  {
   "cell_type": "markdown",
   "id": "discrete-civilian",
   "metadata": {},
   "source": [
    "The model is going to include a \"blob\" of emission from a [beta2d](https://cxc.cfa.harvard.edu/sherpa/ahelp/beta2d.html) model - often used to describe the X-ray emission from galaxy clusters - and a sloped background component (created using the [polynom2d](https://cxc.cfa.harvard.edu/sherpa/ahelp/polynom2d.html) model)."
   ]
  },
  {
   "cell_type": "code",
   "execution_count": 6,
   "id": "stupid-diary",
   "metadata": {},
   "outputs": [],
   "source": [
    "true_model = beta2d.true_blob + polynom2d.true_bgnd"
   ]
  },
  {
   "cell_type": "code",
   "execution_count": 7,
   "id": "structured-cement",
   "metadata": {},
   "outputs": [
    {
     "data": {
      "text/html": [
       "<style>/*\n",
       "Copyright (C) 2020  Smithsonian Astrophysical Observatory\n",
       "\n",
       "\n",
       " This program is free software; you can redistribute it and/or modify\n",
       " it under the terms of the GNU General Public License as published by\n",
       " the Free Software Foundation; either version 3 of the License, or\n",
       " (at your option) any later version.\n",
       "\n",
       " This program is distributed in the hope that it will be useful,\n",
       " but WITHOUT ANY WARRANTY; without even the implied warranty of\n",
       " MERCHANTABILITY or FITNESS FOR A PARTICULAR PURPOSE.  See the\n",
       " GNU General Public License for more details.\n",
       "\n",
       " You should have received a copy of the GNU General Public License along\n",
       " with this program; if not, write to the Free Software Foundation, Inc.,\n",
       " 51 Franklin Street, Fifth Floor, Boston, MA 02110-1301 USA.\n",
       "\n",
       "*/\n",
       "\n",
       ":root {\n",
       "  --sherpa-border-color: var(--jp-border-color2, #e0e0e0);\n",
       "  --sherpa-background-color: var(--jp-layout-color0, white);\n",
       "  --sherpa-background-color-row-even: var(--jp-layout-color1, white);\n",
       "  --sherpa-background-color-row-odd: var(--jp-layout-color2, #eeeeee);\n",
       "\n",
       "  /* https://medium.com/ge-design/iot-cool-gray-is-a-great-background-color-for-data-visualization-ebf18c318418 */\n",
       "  --sherpa-background-color-dark1: #EBEFF2;\n",
       "  --sherpa-background-color-dark2: #D8E0E5;\n",
       "}\n",
       "\n",
       "div.sherpa-text-fallback {\n",
       "    display: none;\n",
       "}\n",
       "\n",
       "div.sherpa {\n",
       "    display: block;\n",
       "}\n",
       "\n",
       "div.sherpa details summary {\n",
       "    display: list-item;  /* needed for notebook, not lab */\n",
       "    font-size: larger;\n",
       "}\n",
       "\n",
       "div.sherpa details div.datavals {\n",
       "    display: grid;\n",
       "    grid-template-columns: 1fr 3fr;\n",
       "    column-gap: 0.5em;\n",
       "}\n",
       "\n",
       "div.sherpa div.dataname {\n",
       "    font-weight: bold;\n",
       "    border-right: 1px solid var(--sherpa-border-color);\n",
       "}\n",
       "\n",
       "div.sherpa div.dataval { }\n",
       "\n",
       "div.sherpa div.datavals div:nth-child(4n + 1) ,\n",
       "div.sherpa div.datavals div:nth-child(4n + 2) {\n",
       "    background: var(--sherpa-background-color-row-odd);\n",
       "}\n",
       "\n",
       "div.sherpa table.model tbody {\n",
       "    border-bottom: 1px solid var(--sherpa-border-color);\n",
       "}\n",
       "\n",
       "div.sherpa table.model tr.block {\n",
       "    border-top: 1px solid var(--sherpa-border-color);\n",
       "}\n",
       "\n",
       "div.sherpa table.model th.model-odd ,\n",
       "div.sherpa table.model th.model-even {\n",
       "    border-right: 1px solid var(--sherpa-border-color);\n",
       "}\n",
       "\n",
       "div.sherpa table.model th.model-odd {\n",
       "    background: var(--sherpa-background-color-dark1);\n",
       "}\n",
       "\n",
       "div.sherpa table.model th.model-even {\n",
       "    background: var(--sherpa-background-color-dark2);\n",
       "}\n",
       "\n",
       "div.sherpa .failed {\n",
       "    background: orange;\n",
       "    font-size: large;\n",
       "    padding: 1em;\n",
       "}\n",
       "</style><div class=\"sherpa-text-fallback\">&lt;Polynom2D model instance &#x27;polynom2d.true_bgnd&#x27;&gt;</div><div hidden class=\"sherpa\"><details open><summary>Model</summary><table class=\"model\"><caption>Expression: polynom2d.true_bgnd</caption><thead><tr><th>Component</th><th>Parameter</th><th>Thawed</th><th>Value</th><th>Min</th><th>Max</th><th>Units</th></tr></thead><tbody><tr><th class=\"model-odd\" scope=\"rowgroup\" rowspan=9>true_bgnd</th><td>c</td><td><input disabled type=\"checkbox\" checked></input></td><td>1.0</td><td>-MAX</td><td>MAX</td><td></td></tr><tr><td>cy1</td><td><input disabled type=\"checkbox\" checked></input></td><td>0.0</td><td>-MAX</td><td>MAX</td><td></td></tr><tr><td>cy2</td><td><input disabled type=\"checkbox\" checked></input></td><td>0.0</td><td>-MAX</td><td>MAX</td><td></td></tr><tr><td>cx1</td><td><input disabled type=\"checkbox\" checked></input></td><td>0.0</td><td>-MAX</td><td>MAX</td><td></td></tr><tr><td>cx1y1</td><td><input disabled type=\"checkbox\" checked></input></td><td>0.0</td><td>-MAX</td><td>MAX</td><td></td></tr><tr><td>cx1y2</td><td><input disabled type=\"checkbox\" checked></input></td><td>0.0</td><td>-MAX</td><td>MAX</td><td></td></tr><tr><td>cx2</td><td><input disabled type=\"checkbox\" checked></input></td><td>0.0</td><td>-MAX</td><td>MAX</td><td></td></tr><tr><td>cx2y1</td><td><input disabled type=\"checkbox\" checked></input></td><td>0.0</td><td>-MAX</td><td>MAX</td><td></td></tr><tr><td>cx2y2</td><td><input disabled type=\"checkbox\" checked></input></td><td>0.0</td><td>-MAX</td><td>MAX</td><td></td></tr></tbody></table></details></div>"
      ],
      "text/plain": [
       "<Polynom2D model instance 'polynom2d.true_bgnd'>"
      ]
     },
     "execution_count": 7,
     "metadata": {},
     "output_type": "execute_result"
    }
   ],
   "source": [
    "# Set up the background\n",
    "#\n",
    "true_bgnd"
   ]
  },
  {
   "cell_type": "code",
   "execution_count": 8,
   "id": "logical-deviation",
   "metadata": {},
   "outputs": [],
   "source": [
    "true_bgnd.c = 10\n",
    "true_bgnd.cx1 = -0.1\n",
    "true_bgnd.cy1 = 0.2"
   ]
  },
  {
   "cell_type": "markdown",
   "id": "possible-imperial",
   "metadata": {
    "tags": []
   },
   "source": [
    "We can manually evaluate a model to see whether it makes sense. Note that the coordinates have to be 1D, hence the [flatten](https://numpy.org/doc/stable/reference/generated/numpy.ndarray.flatten.html) calls, and the need to re-create the 2D data for the evaluated model (the [reshape](https://numpy.org/doc/stable/reference/generated/numpy.ndarray.reshape.html) call):"
   ]
  },
  {
   "cell_type": "code",
   "execution_count": 9,
   "id": "juvenile-platform",
   "metadata": {},
   "outputs": [
    {
     "data": {
      "image/png": "[encoded data removed]",
      "text/plain": [
       "<Figure size 432x288 with 2 Axes>"
      ]
     },
     "metadata": {
      "needs_background": "light"
     },
     "output_type": "display_data"
    }
   ],
   "source": [
    "test_bgnd = true_bgnd(x0.flatten(), x1.flatten()).reshape(40, 50)\n",
    "\n",
    "plt.imshow(test_bgnd, origin='lower')\n",
    "plt.colorbar()\n",
    "plt.title(\"The truth: background\");"
   ]
  },
  {
   "cell_type": "code",
   "execution_count": 10,
   "id": "brutal-mexican",
   "metadata": {},
   "outputs": [
    {
     "data": {
      "text/html": [
       "<style>/*\n",
       "Copyright (C) 2020  Smithsonian Astrophysical Observatory\n",
       "\n",
       "\n",
       " This program is free software; you can redistribute it and/or modify\n",
       " it under the terms of the GNU General Public License as published by\n",
       " the Free Software Foundation; either version 3 of the License, or\n",
       " (at your option) any later version.\n",
       "\n",
       " This program is distributed in the hope that it will be useful,\n",
       " but WITHOUT ANY WARRANTY; without even the implied warranty of\n",
       " MERCHANTABILITY or FITNESS FOR A PARTICULAR PURPOSE.  See the\n",
       " GNU General Public License for more details.\n",
       "\n",
       " You should have received a copy of the GNU General Public License along\n",
       " with this program; if not, write to the Free Software Foundation, Inc.,\n",
       " 51 Franklin Street, Fifth Floor, Boston, MA 02110-1301 USA.\n",
       "\n",
       "*/\n",
       "\n",
       ":root {\n",
       "  --sherpa-border-color: var(--jp-border-color2, #e0e0e0);\n",
       "  --sherpa-background-color: var(--jp-layout-color0, white);\n",
       "  --sherpa-background-color-row-even: var(--jp-layout-color1, white);\n",
       "  --sherpa-background-color-row-odd: var(--jp-layout-color2, #eeeeee);\n",
       "\n",
       "  /* https://medium.com/ge-design/iot-cool-gray-is-a-great-background-color-for-data-visualization-ebf18c318418 */\n",
       "  --sherpa-background-color-dark1: #EBEFF2;\n",
       "  --sherpa-background-color-dark2: #D8E0E5;\n",
       "}\n",
       "\n",
       "div.sherpa-text-fallback {\n",
       "    display: none;\n",
       "}\n",
       "\n",
       "div.sherpa {\n",
       "    display: block;\n",
       "}\n",
       "\n",
       "div.sherpa details summary {\n",
       "    display: list-item;  /* needed for notebook, not lab */\n",
       "    font-size: larger;\n",
       "}\n",
       "\n",
       "div.sherpa details div.datavals {\n",
       "    display: grid;\n",
       "    grid-template-columns: 1fr 3fr;\n",
       "    column-gap: 0.5em;\n",
       "}\n",
       "\n",
       "div.sherpa div.dataname {\n",
       "    font-weight: bold;\n",
       "    border-right: 1px solid var(--sherpa-border-color);\n",
       "}\n",
       "\n",
       "div.sherpa div.dataval { }\n",
       "\n",
       "div.sherpa div.datavals div:nth-child(4n + 1) ,\n",
       "div.sherpa div.datavals div:nth-child(4n + 2) {\n",
       "    background: var(--sherpa-background-color-row-odd);\n",
       "}\n",
       "\n",
       "div.sherpa table.model tbody {\n",
       "    border-bottom: 1px solid var(--sherpa-border-color);\n",
       "}\n",
       "\n",
       "div.sherpa table.model tr.block {\n",
       "    border-top: 1px solid var(--sherpa-border-color);\n",
       "}\n",
       "\n",
       "div.sherpa table.model th.model-odd ,\n",
       "div.sherpa table.model th.model-even {\n",
       "    border-right: 1px solid var(--sherpa-border-color);\n",
       "}\n",
       "\n",
       "div.sherpa table.model th.model-odd {\n",
       "    background: var(--sherpa-background-color-dark1);\n",
       "}\n",
       "\n",
       "div.sherpa table.model th.model-even {\n",
       "    background: var(--sherpa-background-color-dark2);\n",
       "}\n",
       "\n",
       "div.sherpa .failed {\n",
       "    background: orange;\n",
       "    font-size: large;\n",
       "    padding: 1em;\n",
       "}\n",
       "</style><div class=\"sherpa-text-fallback\">&lt;Beta2D model instance &#x27;beta2d.true_blob&#x27;&gt;</div><div hidden class=\"sherpa\"><details open><summary>Model</summary><table class=\"model\"><caption>Expression: beta2d.true_blob</caption><thead><tr><th>Component</th><th>Parameter</th><th>Thawed</th><th>Value</th><th>Min</th><th>Max</th><th>Units</th></tr></thead><tbody><tr><th class=\"model-odd\" scope=\"rowgroup\" rowspan=7>true_blob</th><td>r0</td><td><input disabled type=\"checkbox\" checked></input></td><td>10.0</td><td>TINY</td><td>MAX</td><td></td></tr><tr><td>xpos</td><td><input disabled type=\"checkbox\" checked></input></td><td>0.0</td><td>-MAX</td><td>MAX</td><td></td></tr><tr><td>ypos</td><td><input disabled type=\"checkbox\" checked></input></td><td>0.0</td><td>-MAX</td><td>MAX</td><td></td></tr><tr><td>ellip</td><td><input disabled type=\"checkbox\"></input></td><td>0.0</td><td>0.0</td><td>0.999</td><td></td></tr><tr><td>theta</td><td><input disabled type=\"checkbox\"></input></td><td>0.0</td><td>-2&#960;</td><td>2&#960;</td><td>radians</td></tr><tr><td>ampl</td><td><input disabled type=\"checkbox\" checked></input></td><td>1.0</td><td>-MAX</td><td>MAX</td><td></td></tr><tr><td>alpha</td><td><input disabled type=\"checkbox\" checked></input></td><td>1.0</td><td>-10.0</td><td>10.0</td><td></td></tr></tbody></table></details></div>"
      ],
      "text/plain": [
       "<Beta2D model instance 'beta2d.true_blob'>"
      ]
     },
     "execution_count": 10,
     "metadata": {},
     "output_type": "execute_result"
    }
   ],
   "source": [
    "# Set up the blob\n",
    "#\n",
    "true_blob"
   ]
  },
  {
   "cell_type": "code",
   "execution_count": 11,
   "id": "interior-coalition",
   "metadata": {},
   "outputs": [],
   "source": [
    "true_blob.xpos = 30.2\n",
    "true_blob.ypos = 15.8\n",
    "true_blob.r0 = 7.8\n",
    "true_blob.alpha = 1.5  # a classical beta=2/3 model\n",
    "\n",
    "true_blob.ampl = 20"
   ]
  },
  {
   "cell_type": "code",
   "execution_count": 12,
   "id": "front-hotel",
   "metadata": {},
   "outputs": [
    {
     "data": {
      "image/png": "[encoded data removed]",
      "text/plain": [
       "<Figure size 432x288 with 2 Axes>"
      ]
     },
     "metadata": {
      "needs_background": "light"
     },
     "output_type": "display_data"
    }
   ],
   "source": [
    "test_blob = true_blob(x0.flatten(), x1.flatten()).reshape(40, 50)\n",
    "\n",
    "plt.imshow(test_blob, origin='lower')\n",
    "plt.colorbar()\n",
    "plt.title(\"The truth: blob\");"
   ]
  },
  {
   "cell_type": "code",
   "execution_count": 13,
   "id": "acute-bowling",
   "metadata": {},
   "outputs": [
    {
     "data": {
      "image/png": "[encoded data removed]",
      "text/plain": [
       "<Figure size 432x288 with 2 Axes>"
      ]
     },
     "metadata": {
      "needs_background": "light"
     },
     "output_type": "display_data"
    }
   ],
   "source": [
    "# combining them\n",
    "\n",
    "test = test_blob + test_bgnd\n",
    "\n",
    "plt.imshow(test, origin='lower')\n",
    "plt.colorbar()\n",
    "plt.title(\"The truth\");"
   ]
  },
  {
   "cell_type": "markdown",
   "id": "clear-motel",
   "metadata": {
    "tags": []
   },
   "source": [
    "So, let's see if we can add some noise. For this case I am assuming Poisson noise, so I can take advantage of the Sherpa utility routine [poisson_noise](https://sherpa.readthedocs.io/en/latest/overview/api/sherpa.utils.poisson_noise.html):"
   ]
  },
  {
   "cell_type": "code",
   "execution_count": 14,
   "id": "manual-leave",
   "metadata": {},
   "outputs": [],
   "source": [
    "from sherpa.utils import poisson_noise\n",
    "\n",
    "test_plus_noise = poisson_noise(test)"
   ]
  },
  {
   "cell_type": "code",
   "execution_count": 15,
   "id": "selective-theta",
   "metadata": {},
   "outputs": [
    {
     "data": {
      "image/png": "[encoded data removed]",
      "text/plain": [
       "<Figure size 432x288 with 2 Axes>"
      ]
     },
     "metadata": {
      "needs_background": "light"
     },
     "output_type": "display_data"
    }
   ],
   "source": [
    "plt.imshow(test_plus_noise, origin='lower')\n",
    "plt.colorbar()\n",
    "plt.title(\"The truth is out there\");"
   ]
  },
  {
   "cell_type": "markdown",
   "id": "divided-wells",
   "metadata": {
    "tags": []
   },
   "source": [
    "# Turning this into a dataset\n",
    "\n",
    "The [load_arrays](https://cxc.cfa.harvard.edu/sherpa/ahelp/load_arrays.html) command is one of the few Sherpa commands that requires the dataset identifier:"
   ]
  },
  {
   "cell_type": "code",
   "execution_count": 16,
   "id": "sticky-premiere",
   "metadata": {},
   "outputs": [],
   "source": [
    "load_arrays(1, x0.flatten(), x1.flatten(), test_plus_noise.flatten(), x0.shape, DataIMG)"
   ]
  },
  {
   "cell_type": "code",
   "execution_count": 17,
   "id": "single-insight",
   "metadata": {},
   "outputs": [
    {
     "data": {
      "text/html": [
       "<style>/*\n",
       "Copyright (C) 2020  Smithsonian Astrophysical Observatory\n",
       "\n",
       "\n",
       " This program is free software; you can redistribute it and/or modify\n",
       " it under the terms of the GNU General Public License as published by\n",
       " the Free Software Foundation; either version 3 of the License, or\n",
       " (at your option) any later version.\n",
       "\n",
       " This program is distributed in the hope that it will be useful,\n",
       " but WITHOUT ANY WARRANTY; without even the implied warranty of\n",
       " MERCHANTABILITY or FITNESS FOR A PARTICULAR PURPOSE.  See the\n",
       " GNU General Public License for more details.\n",
       "\n",
       " You should have received a copy of the GNU General Public License along\n",
       " with this program; if not, write to the Free Software Foundation, Inc.,\n",
       " 51 Franklin Street, Fifth Floor, Boston, MA 02110-1301 USA.\n",
       "\n",
       "*/\n",
       "\n",
       ":root {\n",
       "  --sherpa-border-color: var(--jp-border-color2, #e0e0e0);\n",
       "  --sherpa-background-color: var(--jp-layout-color0, white);\n",
       "  --sherpa-background-color-row-even: var(--jp-layout-color1, white);\n",
       "  --sherpa-background-color-row-odd: var(--jp-layout-color2, #eeeeee);\n",
       "\n",
       "  /* https://medium.com/ge-design/iot-cool-gray-is-a-great-background-color-for-data-visualization-ebf18c318418 */\n",
       "  --sherpa-background-color-dark1: #EBEFF2;\n",
       "  --sherpa-background-color-dark2: #D8E0E5;\n",
       "}\n",
       "\n",
       "div.sherpa-text-fallback {\n",
       "    display: none;\n",
       "}\n",
       "\n",
       "div.sherpa {\n",
       "    display: block;\n",
       "}\n",
       "\n",
       "div.sherpa details summary {\n",
       "    display: list-item;  /* needed for notebook, not lab */\n",
       "    font-size: larger;\n",
       "}\n",
       "\n",
       "div.sherpa details div.datavals {\n",
       "    display: grid;\n",
       "    grid-template-columns: 1fr 3fr;\n",
       "    column-gap: 0.5em;\n",
       "}\n",
       "\n",
       "div.sherpa div.dataname {\n",
       "    font-weight: bold;\n",
       "    border-right: 1px solid var(--sherpa-border-color);\n",
       "}\n",
       "\n",
       "div.sherpa div.dataval { }\n",
       "\n",
       "div.sherpa div.datavals div:nth-child(4n + 1) ,\n",
       "div.sherpa div.datavals div:nth-child(4n + 2) {\n",
       "    background: var(--sherpa-background-color-row-odd);\n",
       "}\n",
       "\n",
       "div.sherpa table.model tbody {\n",
       "    border-bottom: 1px solid var(--sherpa-border-color);\n",
       "}\n",
       "\n",
       "div.sherpa table.model tr.block {\n",
       "    border-top: 1px solid var(--sherpa-border-color);\n",
       "}\n",
       "\n",
       "div.sherpa table.model th.model-odd ,\n",
       "div.sherpa table.model th.model-even {\n",
       "    border-right: 1px solid var(--sherpa-border-color);\n",
       "}\n",
       "\n",
       "div.sherpa table.model th.model-odd {\n",
       "    background: var(--sherpa-background-color-dark1);\n",
       "}\n",
       "\n",
       "div.sherpa table.model th.model-even {\n",
       "    background: var(--sherpa-background-color-dark2);\n",
       "}\n",
       "\n",
       "div.sherpa .failed {\n",
       "    background: orange;\n",
       "    font-size: large;\n",
       "    padding: 1em;\n",
       "}\n",
       "</style><div class=\"sherpa-text-fallback\">&lt;DataIMG data set instance &#x27;&#x27;&gt;</div><div hidden class=\"sherpa\"><details open><summary>DataIMG Plot</summary><svg height=\"288pt\" version=\"1.1\" viewBox=\"0 0 432 288\" width=\"432pt\" xmlns=\"http://www.w3.org/2000/svg\" xmlns:xlink=\"http://www.w3.org/1999/xlink\">\n",
       " <metadata>\n",
       "  <rdf:RDF xmlns:cc=\"http://creativecommons.org/ns#\" xmlns:dc=\"http://purl.org/dc/elements/1.1/\" xmlns:rdf=\"http://www.w3.org/1999/02/22-rdf-syntax-ns#\">\n",
       "   <cc:Work>\n",
       "    <dc:type rdf:resource=\"http://purl.org/dc/dcmitype/StillImage\"/>\n",
       "    <dc:date>2021-08-27T14:50:44.615438</dc:date>\n",
       "    <dc:format>image/svg+xml</dc:format>\n",
       "    <dc:creator>\n",
       "     <cc:Agent>\n",
       "      <dc:title>Matplotlib v3.3.4, https://matplotlib.org/</dc:title>\n",
       "     </cc:Agent>\n",
       "    </dc:creator>\n",
       "   </cc:Work>\n",
       "  </rdf:RDF>\n",
       " </metadata>\n",
       " <defs>\n",
       "  <style type=\"text/css\">*{stroke-linecap:butt;stroke-linejoin:round;}</style>\n",
       " </defs>\n",
       " <g id=\"figure_1\">\n",
       "  <g id=\"patch_1\">\n",
       "   <path d=\"M 0 288 \n",
       "L 432 288 \n",
       "L 432 0 \n",
       "L 0 0 \n",
       "z\n",
       "\" style=\"fill:none;\"/>\n",
       "  </g>\n",
       "  <g id=\"axes_1\">\n",
       "   <g id=\"patch_2\">\n",
       "    <path d=\"M 54 250.416 \n",
       "L 321.84 250.416 \n",
       "L 321.84 36.144 \n",
       "L 54 36.144 \n",
       "z\n",
       "\" style=\"fill:#ffffff;\"/>\n",
       "   </g>\n",
       "   <g clip-path=\"url(#pb1d2c89c18)\">\n",
       "    <image height=\"215\" id=\"image31c3be1627\" transform=\"scale(1 -1)translate(0 -215)\" width=\"268\" x=\"54\" xlink:href=\"data:image/png;base64,\n",
       "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\" y=\"-35.416\"/>\n",
       "   </g>\n",
       "   <g id=\"matplotlib.axis_1\">\n",
       "    <g id=\"xtick_1\">\n",
       "     <g id=\"line2d_1\">\n",
       "      <defs>\n",
       "       <path d=\"M 0 0 \n",
       "L 0 3.5 \n",
       "\" id=\"m18f3b2e6de\" style=\"stroke:#000000;stroke-width:0.8;\"/>\n",
       "      </defs>\n",
       "      <g>\n",
       "       <use style=\"stroke:#000000;stroke-width:0.8;\" x=\"104.8896\" xlink:href=\"#m18f3b2e6de\" y=\"250.416\"/>\n",
       "      </g>\n",
       "     </g>\n",
       "     <g id=\"text_1\">\n",
       "      <!-- 10 -->\n",
       "      <g transform=\"translate(98.5271 265.014438)scale(0.1 -0.1)\">\n",
       "       <defs>\n",
       "        <path d=\"M 12.40625 8.296875 \n",
       "L 28.515625 8.296875 \n",
       "L 28.515625 63.921875 \n",
       "L 10.984375 60.40625 \n",
       "L 10.984375 69.390625 \n",
       "L 28.421875 72.90625 \n",
       "L 38.28125 72.90625 \n",
       "L 38.28125 8.296875 \n",
       "L 54.390625 8.296875 \n",
       "L 54.390625 0 \n",
       "L 12.40625 0 \n",
       "z\n",
       "\" id=\"DejaVuSans-49\"/>\n",
       "        <path d=\"M 31.78125 66.40625 \n",
       "Q 24.171875 66.40625 20.328125 58.90625 \n",
       "Q 16.5 51.421875 16.5 36.375 \n",
       "Q 16.5 21.390625 20.328125 13.890625 \n",
       "Q 24.171875 6.390625 31.78125 6.390625 \n",
       "Q 39.453125 6.390625 43.28125 13.890625 \n",
       "Q 47.125 21.390625 47.125 36.375 \n",
       "Q 47.125 51.421875 43.28125 58.90625 \n",
       "Q 39.453125 66.40625 31.78125 66.40625 \n",
       "z\n",
       "M 31.78125 74.21875 \n",
       "Q 44.046875 74.21875 50.515625 64.515625 \n",
       "Q 56.984375 54.828125 56.984375 36.375 \n",
       "Q 56.984375 17.96875 50.515625 8.265625 \n",
       "Q 44.046875 -1.421875 31.78125 -1.421875 \n",
       "Q 19.53125 -1.421875 13.0625 8.265625 \n",
       "Q 6.59375 17.96875 6.59375 36.375 \n",
       "Q 6.59375 54.828125 13.0625 64.515625 \n",
       "Q 19.53125 74.21875 31.78125 74.21875 \n",
       "z\n",
       "\" id=\"DejaVuSans-48\"/>\n",
       "       </defs>\n",
       "       <use xlink:href=\"#DejaVuSans-49\"/>\n",
       "       <use x=\"63.623047\" xlink:href=\"#DejaVuSans-48\"/>\n",
       "      </g>\n",
       "     </g>\n",
       "    </g>\n",
       "    <g id=\"xtick_2\">\n",
       "     <g id=\"line2d_2\">\n",
       "      <g>\n",
       "       <use style=\"stroke:#000000;stroke-width:0.8;\" x=\"158.4576\" xlink:href=\"#m18f3b2e6de\" y=\"250.416\"/>\n",
       "      </g>\n",
       "     </g>\n",
       "     <g id=\"text_2\">\n",
       "      <!-- 20 -->\n",
       "      <g transform=\"translate(152.0951 265.014438)scale(0.1 -0.1)\">\n",
       "       <defs>\n",
       "        <path d=\"M 19.1875 8.296875 \n",
       "L 53.609375 8.296875 \n",
       "L 53.609375 0 \n",
       "L 7.328125 0 \n",
       "L 7.328125 8.296875 \n",
       "Q 12.9375 14.109375 22.625 23.890625 \n",
       "Q 32.328125 33.6875 34.8125 36.53125 \n",
       "Q 39.546875 41.84375 41.421875 45.53125 \n",
       "Q 43.3125 49.21875 43.3125 52.78125 \n",
       "Q 43.3125 58.59375 39.234375 62.25 \n",
       "Q 35.15625 65.921875 28.609375 65.921875 \n",
       "Q 23.96875 65.921875 18.8125 64.3125 \n",
       "Q 13.671875 62.703125 7.8125 59.421875 \n",
       "L 7.8125 69.390625 \n",
       "Q 13.765625 71.78125 18.9375 73 \n",
       "Q 24.125 74.21875 28.421875 74.21875 \n",
       "Q 39.75 74.21875 46.484375 68.546875 \n",
       "Q 53.21875 62.890625 53.21875 53.421875 \n",
       "Q 53.21875 48.921875 51.53125 44.890625 \n",
       "Q 49.859375 40.875 45.40625 35.40625 \n",
       "Q 44.1875 33.984375 37.640625 27.21875 \n",
       "Q 31.109375 20.453125 19.1875 8.296875 \n",
       "z\n",
       "\" id=\"DejaVuSans-50\"/>\n",
       "       </defs>\n",
       "       <use xlink:href=\"#DejaVuSans-50\"/>\n",
       "       <use x=\"63.623047\" xlink:href=\"#DejaVuSans-48\"/>\n",
       "      </g>\n",
       "     </g>\n",
       "    </g>\n",
       "    <g id=\"xtick_3\">\n",
       "     <g id=\"line2d_3\">\n",
       "      <g>\n",
       "       <use style=\"stroke:#000000;stroke-width:0.8;\" x=\"212.0256\" xlink:href=\"#m18f3b2e6de\" y=\"250.416\"/>\n",
       "      </g>\n",
       "     </g>\n",
       "     <g id=\"text_3\">\n",
       "      <!-- 30 -->\n",
       "      <g transform=\"translate(205.6631 265.014438)scale(0.1 -0.1)\">\n",
       "       <defs>\n",
       "        <path d=\"M 40.578125 39.3125 \n",
       "Q 47.65625 37.796875 51.625 33 \n",
       "Q 55.609375 28.21875 55.609375 21.1875 \n",
       "Q 55.609375 10.40625 48.1875 4.484375 \n",
       "Q 40.765625 -1.421875 27.09375 -1.421875 \n",
       "Q 22.515625 -1.421875 17.65625 -0.515625 \n",
       "Q 12.796875 0.390625 7.625 2.203125 \n",
       "L 7.625 11.71875 \n",
       "Q 11.71875 9.328125 16.59375 8.109375 \n",
       "Q 21.484375 6.890625 26.8125 6.890625 \n",
       "Q 36.078125 6.890625 40.9375 10.546875 \n",
       "Q 45.796875 14.203125 45.796875 21.1875 \n",
       "Q 45.796875 27.640625 41.28125 31.265625 \n",
       "Q 36.765625 34.90625 28.71875 34.90625 \n",
       "L 20.21875 34.90625 \n",
       "L 20.21875 43.015625 \n",
       "L 29.109375 43.015625 \n",
       "Q 36.375 43.015625 40.234375 45.921875 \n",
       "Q 44.09375 48.828125 44.09375 54.296875 \n",
       "Q 44.09375 59.90625 40.109375 62.90625 \n",
       "Q 36.140625 65.921875 28.71875 65.921875 \n",
       "Q 24.65625 65.921875 20.015625 65.03125 \n",
       "Q 15.375 64.15625 9.8125 62.3125 \n",
       "L 9.8125 71.09375 \n",
       "Q 15.4375 72.65625 20.34375 73.4375 \n",
       "Q 25.25 74.21875 29.59375 74.21875 \n",
       "Q 40.828125 74.21875 47.359375 69.109375 \n",
       "Q 53.90625 64.015625 53.90625 55.328125 \n",
       "Q 53.90625 49.265625 50.4375 45.09375 \n",
       "Q 46.96875 40.921875 40.578125 39.3125 \n",
       "z\n",
       "\" id=\"DejaVuSans-51\"/>\n",
       "       </defs>\n",
       "       <use xlink:href=\"#DejaVuSans-51\"/>\n",
       "       <use x=\"63.623047\" xlink:href=\"#DejaVuSans-48\"/>\n",
       "      </g>\n",
       "     </g>\n",
       "    </g>\n",
       "    <g id=\"xtick_4\">\n",
       "     <g id=\"line2d_4\">\n",
       "      <g>\n",
       "       <use style=\"stroke:#000000;stroke-width:0.8;\" x=\"265.5936\" xlink:href=\"#m18f3b2e6de\" y=\"250.416\"/>\n",
       "      </g>\n",
       "     </g>\n",
       "     <g id=\"text_4\">\n",
       "      <!-- 40 -->\n",
       "      <g transform=\"translate(259.2311 265.014438)scale(0.1 -0.1)\">\n",
       "       <defs>\n",
       "        <path d=\"M 37.796875 64.3125 \n",
       "L 12.890625 25.390625 \n",
       "L 37.796875 25.390625 \n",
       "z\n",
       "M 35.203125 72.90625 \n",
       "L 47.609375 72.90625 \n",
       "L 47.609375 25.390625 \n",
       "L 58.015625 25.390625 \n",
       "L 58.015625 17.1875 \n",
       "L 47.609375 17.1875 \n",
       "L 47.609375 0 \n",
       "L 37.796875 0 \n",
       "L 37.796875 17.1875 \n",
       "L 4.890625 17.1875 \n",
       "L 4.890625 26.703125 \n",
       "z\n",
       "\" id=\"DejaVuSans-52\"/>\n",
       "       </defs>\n",
       "       <use xlink:href=\"#DejaVuSans-52\"/>\n",
       "       <use x=\"63.623047\" xlink:href=\"#DejaVuSans-48\"/>\n",
       "      </g>\n",
       "     </g>\n",
       "    </g>\n",
       "    <g id=\"xtick_5\">\n",
       "     <g id=\"line2d_5\">\n",
       "      <g>\n",
       "       <use style=\"stroke:#000000;stroke-width:0.8;\" x=\"319.1616\" xlink:href=\"#m18f3b2e6de\" y=\"250.416\"/>\n",
       "      </g>\n",
       "     </g>\n",
       "     <g id=\"text_5\">\n",
       "      <!-- 50 -->\n",
       "      <g transform=\"translate(312.7991 265.014438)scale(0.1 -0.1)\">\n",
       "       <defs>\n",
       "        <path d=\"M 10.796875 72.90625 \n",
       "L 49.515625 72.90625 \n",
       "L 49.515625 64.59375 \n",
       "L 19.828125 64.59375 \n",
       "L 19.828125 46.734375 \n",
       "Q 21.96875 47.46875 24.109375 47.828125 \n",
       "Q 26.265625 48.1875 28.421875 48.1875 \n",
       "Q 40.625 48.1875 47.75 41.5 \n",
       "Q 54.890625 34.8125 54.890625 23.390625 \n",
       "Q 54.890625 11.625 47.5625 5.09375 \n",
       "Q 40.234375 -1.421875 26.90625 -1.421875 \n",
       "Q 22.3125 -1.421875 17.546875 -0.640625 \n",
       "Q 12.796875 0.140625 7.71875 1.703125 \n",
       "L 7.71875 11.625 \n",
       "Q 12.109375 9.234375 16.796875 8.0625 \n",
       "Q 21.484375 6.890625 26.703125 6.890625 \n",
       "Q 35.15625 6.890625 40.078125 11.328125 \n",
       "Q 45.015625 15.765625 45.015625 23.390625 \n",
       "Q 45.015625 31 40.078125 35.4375 \n",
       "Q 35.15625 39.890625 26.703125 39.890625 \n",
       "Q 22.75 39.890625 18.8125 39.015625 \n",
       "Q 14.890625 38.140625 10.796875 36.28125 \n",
       "z\n",
       "\" id=\"DejaVuSans-53\"/>\n",
       "       </defs>\n",
       "       <use xlink:href=\"#DejaVuSans-53\"/>\n",
       "       <use x=\"63.623047\" xlink:href=\"#DejaVuSans-48\"/>\n",
       "      </g>\n",
       "     </g>\n",
       "    </g>\n",
       "    <g id=\"text_6\">\n",
       "     <!-- X (logical) -->\n",
       "     <g transform=\"translate(162.790313 278.692563)scale(0.1 -0.1)\">\n",
       "      <defs>\n",
       "       <path d=\"M 6.296875 72.90625 \n",
       "L 16.890625 72.90625 \n",
       "L 35.015625 45.796875 \n",
       "L 53.21875 72.90625 \n",
       "L 63.8125 72.90625 \n",
       "L 40.375 37.890625 \n",
       "L 65.375 0 \n",
       "L 54.78125 0 \n",
       "L 34.28125 31 \n",
       "L 13.625 0 \n",
       "L 2.984375 0 \n",
       "L 29 38.921875 \n",
       "z\n",
       "\" id=\"DejaVuSans-88\"/>\n",
       "       <path id=\"DejaVuSans-32\"/>\n",
       "       <path d=\"M 31 75.875 \n",
       "Q 24.46875 64.65625 21.28125 53.65625 \n",
       "Q 18.109375 42.671875 18.109375 31.390625 \n",
       "Q 18.109375 20.125 21.3125 9.0625 \n",
       "Q 24.515625 -2 31 -13.1875 \n",
       "L 23.1875 -13.1875 \n",
       "Q 15.875 -1.703125 12.234375 9.375 \n",
       "Q 8.59375 20.453125 8.59375 31.390625 \n",
       "Q 8.59375 42.28125 12.203125 53.3125 \n",
       "Q 15.828125 64.359375 23.1875 75.875 \n",
       "z\n",
       "\" id=\"DejaVuSans-40\"/>\n",
       "       <path d=\"M 9.421875 75.984375 \n",
       "L 18.40625 75.984375 \n",
       "L 18.40625 0 \n",
       "L 9.421875 0 \n",
       "z\n",
       "\" id=\"DejaVuSans-108\"/>\n",
       "       <path d=\"M 30.609375 48.390625 \n",
       "Q 23.390625 48.390625 19.1875 42.75 \n",
       "Q 14.984375 37.109375 14.984375 27.296875 \n",
       "Q 14.984375 17.484375 19.15625 11.84375 \n",
       "Q 23.34375 6.203125 30.609375 6.203125 \n",
       "Q 37.796875 6.203125 41.984375 11.859375 \n",
       "Q 46.1875 17.53125 46.1875 27.296875 \n",
       "Q 46.1875 37.015625 41.984375 42.703125 \n",
       "Q 37.796875 48.390625 30.609375 48.390625 \n",
       "z\n",
       "M 30.609375 56 \n",
       "Q 42.328125 56 49.015625 48.375 \n",
       "Q 55.71875 40.765625 55.71875 27.296875 \n",
       "Q 55.71875 13.875 49.015625 6.21875 \n",
       "Q 42.328125 -1.421875 30.609375 -1.421875 \n",
       "Q 18.84375 -1.421875 12.171875 6.21875 \n",
       "Q 5.515625 13.875 5.515625 27.296875 \n",
       "Q 5.515625 40.765625 12.171875 48.375 \n",
       "Q 18.84375 56 30.609375 56 \n",
       "z\n",
       "\" id=\"DejaVuSans-111\"/>\n",
       "       <path d=\"M 45.40625 27.984375 \n",
       "Q 45.40625 37.75 41.375 43.109375 \n",
       "Q 37.359375 48.484375 30.078125 48.484375 \n",
       "Q 22.859375 48.484375 18.828125 43.109375 \n",
       "Q 14.796875 37.75 14.796875 27.984375 \n",
       "Q 14.796875 18.265625 18.828125 12.890625 \n",
       "Q 22.859375 7.515625 30.078125 7.515625 \n",
       "Q 37.359375 7.515625 41.375 12.890625 \n",
       "Q 45.40625 18.265625 45.40625 27.984375 \n",
       "z\n",
       "M 54.390625 6.78125 \n",
       "Q 54.390625 -7.171875 48.1875 -13.984375 \n",
       "Q 42 -20.796875 29.203125 -20.796875 \n",
       "Q 24.46875 -20.796875 20.265625 -20.09375 \n",
       "Q 16.0625 -19.390625 12.109375 -17.921875 \n",
       "L 12.109375 -9.1875 \n",
       "Q 16.0625 -11.328125 19.921875 -12.34375 \n",
       "Q 23.78125 -13.375 27.78125 -13.375 \n",
       "Q 36.625 -13.375 41.015625 -8.765625 \n",
       "Q 45.40625 -4.15625 45.40625 5.171875 \n",
       "L 45.40625 9.625 \n",
       "Q 42.625 4.78125 38.28125 2.390625 \n",
       "Q 33.9375 0 27.875 0 \n",
       "Q 17.828125 0 11.671875 7.65625 \n",
       "Q 5.515625 15.328125 5.515625 27.984375 \n",
       "Q 5.515625 40.671875 11.671875 48.328125 \n",
       "Q 17.828125 56 27.875 56 \n",
       "Q 33.9375 56 38.28125 53.609375 \n",
       "Q 42.625 51.21875 45.40625 46.390625 \n",
       "L 45.40625 54.6875 \n",
       "L 54.390625 54.6875 \n",
       "z\n",
       "\" id=\"DejaVuSans-103\"/>\n",
       "       <path d=\"M 9.421875 54.6875 \n",
       "L 18.40625 54.6875 \n",
       "L 18.40625 0 \n",
       "L 9.421875 0 \n",
       "z\n",
       "M 9.421875 75.984375 \n",
       "L 18.40625 75.984375 \n",
       "L 18.40625 64.59375 \n",
       "L 9.421875 64.59375 \n",
       "z\n",
       "\" id=\"DejaVuSans-105\"/>\n",
       "       <path d=\"M 48.78125 52.59375 \n",
       "L 48.78125 44.1875 \n",
       "Q 44.96875 46.296875 41.140625 47.34375 \n",
       "Q 37.3125 48.390625 33.40625 48.390625 \n",
       "Q 24.65625 48.390625 19.8125 42.84375 \n",
       "Q 14.984375 37.3125 14.984375 27.296875 \n",
       "Q 14.984375 17.28125 19.8125 11.734375 \n",
       "Q 24.65625 6.203125 33.40625 6.203125 \n",
       "Q 37.3125 6.203125 41.140625 7.25 \n",
       "Q 44.96875 8.296875 48.78125 10.40625 \n",
       "L 48.78125 2.09375 \n",
       "Q 45.015625 0.34375 40.984375 -0.53125 \n",
       "Q 36.96875 -1.421875 32.421875 -1.421875 \n",
       "Q 20.0625 -1.421875 12.78125 6.34375 \n",
       "Q 5.515625 14.109375 5.515625 27.296875 \n",
       "Q 5.515625 40.671875 12.859375 48.328125 \n",
       "Q 20.21875 56 33.015625 56 \n",
       "Q 37.15625 56 41.109375 55.140625 \n",
       "Q 45.0625 54.296875 48.78125 52.59375 \n",
       "z\n",
       "\" id=\"DejaVuSans-99\"/>\n",
       "       <path d=\"M 34.28125 27.484375 \n",
       "Q 23.390625 27.484375 19.1875 25 \n",
       "Q 14.984375 22.515625 14.984375 16.5 \n",
       "Q 14.984375 11.71875 18.140625 8.90625 \n",
       "Q 21.296875 6.109375 26.703125 6.109375 \n",
       "Q 34.1875 6.109375 38.703125 11.40625 \n",
       "Q 43.21875 16.703125 43.21875 25.484375 \n",
       "L 43.21875 27.484375 \n",
       "z\n",
       "M 52.203125 31.203125 \n",
       "L 52.203125 0 \n",
       "L 43.21875 0 \n",
       "L 43.21875 8.296875 \n",
       "Q 40.140625 3.328125 35.546875 0.953125 \n",
       "Q 30.953125 -1.421875 24.3125 -1.421875 \n",
       "Q 15.921875 -1.421875 10.953125 3.296875 \n",
       "Q 6 8.015625 6 15.921875 \n",
       "Q 6 25.140625 12.171875 29.828125 \n",
       "Q 18.359375 34.515625 30.609375 34.515625 \n",
       "L 43.21875 34.515625 \n",
       "L 43.21875 35.40625 \n",
       "Q 43.21875 41.609375 39.140625 45 \n",
       "Q 35.0625 48.390625 27.6875 48.390625 \n",
       "Q 23 48.390625 18.546875 47.265625 \n",
       "Q 14.109375 46.140625 10.015625 43.890625 \n",
       "L 10.015625 52.203125 \n",
       "Q 14.9375 54.109375 19.578125 55.046875 \n",
       "Q 24.21875 56 28.609375 56 \n",
       "Q 40.484375 56 46.34375 49.84375 \n",
       "Q 52.203125 43.703125 52.203125 31.203125 \n",
       "z\n",
       "\" id=\"DejaVuSans-97\"/>\n",
       "       <path d=\"M 8.015625 75.875 \n",
       "L 15.828125 75.875 \n",
       "Q 23.140625 64.359375 26.78125 53.3125 \n",
       "Q 30.421875 42.28125 30.421875 31.390625 \n",
       "Q 30.421875 20.453125 26.78125 9.375 \n",
       "Q 23.140625 -1.703125 15.828125 -13.1875 \n",
       "L 8.015625 -13.1875 \n",
       "Q 14.5 -2 17.703125 9.0625 \n",
       "Q 20.90625 20.125 20.90625 31.390625 \n",
       "Q 20.90625 42.671875 17.703125 53.65625 \n",
       "Q 14.5 64.65625 8.015625 75.875 \n",
       "z\n",
       "\" id=\"DejaVuSans-41\"/>\n",
       "      </defs>\n",
       "      <use xlink:href=\"#DejaVuSans-88\"/>\n",
       "      <use x=\"68.505859\" xlink:href=\"#DejaVuSans-32\"/>\n",
       "      <use x=\"100.292969\" xlink:href=\"#DejaVuSans-40\"/>\n",
       "      <use x=\"139.306641\" xlink:href=\"#DejaVuSans-108\"/>\n",
       "      <use x=\"167.089844\" xlink:href=\"#DejaVuSans-111\"/>\n",
       "      <use x=\"228.271484\" xlink:href=\"#DejaVuSans-103\"/>\n",
       "      <use x=\"291.748047\" xlink:href=\"#DejaVuSans-105\"/>\n",
       "      <use x=\"319.53125\" xlink:href=\"#DejaVuSans-99\"/>\n",
       "      <use x=\"374.511719\" xlink:href=\"#DejaVuSans-97\"/>\n",
       "      <use x=\"435.791016\" xlink:href=\"#DejaVuSans-108\"/>\n",
       "      <use x=\"463.574219\" xlink:href=\"#DejaVuSans-41\"/>\n",
       "     </g>\n",
       "    </g>\n",
       "   </g>\n",
       "   <g id=\"matplotlib.axis_2\">\n",
       "    <g id=\"ytick_1\">\n",
       "     <g id=\"line2d_6\">\n",
       "      <defs>\n",
       "       <path d=\"M 0 0 \n",
       "L -3.5 0 \n",
       "\" id=\"m3d13a88cab\" style=\"stroke:#000000;stroke-width:0.8;\"/>\n",
       "      </defs>\n",
       "      <g>\n",
       "       <use style=\"stroke:#000000;stroke-width:0.8;\" x=\"54\" xlink:href=\"#m3d13a88cab\" y=\"226.3104\"/>\n",
       "      </g>\n",
       "     </g>\n",
       "     <g id=\"text_7\">\n",
       "      <!-- 5 -->\n",
       "      <g transform=\"translate(40.6375 230.109619)scale(0.1 -0.1)\">\n",
       "       <use xlink:href=\"#DejaVuSans-53\"/>\n",
       "      </g>\n",
       "     </g>\n",
       "    </g>\n",
       "    <g id=\"ytick_2\">\n",
       "     <g id=\"line2d_7\">\n",
       "      <g>\n",
       "       <use style=\"stroke:#000000;stroke-width:0.8;\" x=\"54\" xlink:href=\"#m3d13a88cab\" y=\"199.5264\"/>\n",
       "      </g>\n",
       "     </g>\n",
       "     <g id=\"text_8\">\n",
       "      <!-- 10 -->\n",
       "      <g transform=\"translate(34.275 203.325619)scale(0.1 -0.1)\">\n",
       "       <use xlink:href=\"#DejaVuSans-49\"/>\n",
       "       <use x=\"63.623047\" xlink:href=\"#DejaVuSans-48\"/>\n",
       "      </g>\n",
       "     </g>\n",
       "    </g>\n",
       "    <g id=\"ytick_3\">\n",
       "     <g id=\"line2d_8\">\n",
       "      <g>\n",
       "       <use style=\"stroke:#000000;stroke-width:0.8;\" x=\"54\" xlink:href=\"#m3d13a88cab\" y=\"172.7424\"/>\n",
       "      </g>\n",
       "     </g>\n",
       "     <g id=\"text_9\">\n",
       "      <!-- 15 -->\n",
       "      <g transform=\"translate(34.275 176.541619)scale(0.1 -0.1)\">\n",
       "       <use xlink:href=\"#DejaVuSans-49\"/>\n",
       "       <use x=\"63.623047\" xlink:href=\"#DejaVuSans-53\"/>\n",
       "      </g>\n",
       "     </g>\n",
       "    </g>\n",
       "    <g id=\"ytick_4\">\n",
       "     <g id=\"line2d_9\">\n",
       "      <g>\n",
       "       <use style=\"stroke:#000000;stroke-width:0.8;\" x=\"54\" xlink:href=\"#m3d13a88cab\" y=\"145.9584\"/>\n",
       "      </g>\n",
       "     </g>\n",
       "     <g id=\"text_10\">\n",
       "      <!-- 20 -->\n",
       "      <g transform=\"translate(34.275 149.757619)scale(0.1 -0.1)\">\n",
       "       <use xlink:href=\"#DejaVuSans-50\"/>\n",
       "       <use x=\"63.623047\" xlink:href=\"#DejaVuSans-48\"/>\n",
       "      </g>\n",
       "     </g>\n",
       "    </g>\n",
       "    <g id=\"ytick_5\">\n",
       "     <g id=\"line2d_10\">\n",
       "      <g>\n",
       "       <use style=\"stroke:#000000;stroke-width:0.8;\" x=\"54\" xlink:href=\"#m3d13a88cab\" y=\"119.1744\"/>\n",
       "      </g>\n",
       "     </g>\n",
       "     <g id=\"text_11\">\n",
       "      <!-- 25 -->\n",
       "      <g transform=\"translate(34.275 122.973619)scale(0.1 -0.1)\">\n",
       "       <use xlink:href=\"#DejaVuSans-50\"/>\n",
       "       <use x=\"63.623047\" xlink:href=\"#DejaVuSans-53\"/>\n",
       "      </g>\n",
       "     </g>\n",
       "    </g>\n",
       "    <g id=\"ytick_6\">\n",
       "     <g id=\"line2d_11\">\n",
       "      <g>\n",
       "       <use style=\"stroke:#000000;stroke-width:0.8;\" x=\"54\" xlink:href=\"#m3d13a88cab\" y=\"92.3904\"/>\n",
       "      </g>\n",
       "     </g>\n",
       "     <g id=\"text_12\">\n",
       "      <!-- 30 -->\n",
       "      <g transform=\"translate(34.275 96.189619)scale(0.1 -0.1)\">\n",
       "       <use xlink:href=\"#DejaVuSans-51\"/>\n",
       "       <use x=\"63.623047\" xlink:href=\"#DejaVuSans-48\"/>\n",
       "      </g>\n",
       "     </g>\n",
       "    </g>\n",
       "    <g id=\"ytick_7\">\n",
       "     <g id=\"line2d_12\">\n",
       "      <g>\n",
       "       <use style=\"stroke:#000000;stroke-width:0.8;\" x=\"54\" xlink:href=\"#m3d13a88cab\" y=\"65.6064\"/>\n",
       "      </g>\n",
       "     </g>\n",
       "     <g id=\"text_13\">\n",
       "      <!-- 35 -->\n",
       "      <g transform=\"translate(34.275 69.405619)scale(0.1 -0.1)\">\n",
       "       <use xlink:href=\"#DejaVuSans-51\"/>\n",
       "       <use x=\"63.623047\" xlink:href=\"#DejaVuSans-53\"/>\n",
       "      </g>\n",
       "     </g>\n",
       "    </g>\n",
       "    <g id=\"ytick_8\">\n",
       "     <g id=\"line2d_13\">\n",
       "      <g>\n",
       "       <use style=\"stroke:#000000;stroke-width:0.8;\" x=\"54\" xlink:href=\"#m3d13a88cab\" y=\"38.8224\"/>\n",
       "      </g>\n",
       "     </g>\n",
       "     <g id=\"text_14\">\n",
       "      <!-- 40 -->\n",
       "      <g transform=\"translate(34.275 42.621619)scale(0.1 -0.1)\">\n",
       "       <use xlink:href=\"#DejaVuSans-52\"/>\n",
       "       <use x=\"63.623047\" xlink:href=\"#DejaVuSans-48\"/>\n",
       "      </g>\n",
       "     </g>\n",
       "    </g>\n",
       "    <g id=\"text_15\">\n",
       "     <!-- Y (logical) -->\n",
       "     <g transform=\"translate(28.195312 168.038594)rotate(-90)scale(0.1 -0.1)\">\n",
       "      <defs>\n",
       "       <path d=\"M -0.203125 72.90625 \n",
       "L 10.40625 72.90625 \n",
       "L 30.609375 42.921875 \n",
       "L 50.6875 72.90625 \n",
       "L 61.28125 72.90625 \n",
       "L 35.5 34.71875 \n",
       "L 35.5 0 \n",
       "L 25.59375 0 \n",
       "L 25.59375 34.71875 \n",
       "z\n",
       "\" id=\"DejaVuSans-89\"/>\n",
       "      </defs>\n",
       "      <use xlink:href=\"#DejaVuSans-89\"/>\n",
       "      <use x=\"61.083984\" xlink:href=\"#DejaVuSans-32\"/>\n",
       "      <use x=\"92.871094\" xlink:href=\"#DejaVuSans-40\"/>\n",
       "      <use x=\"131.884766\" xlink:href=\"#DejaVuSans-108\"/>\n",
       "      <use x=\"159.667969\" xlink:href=\"#DejaVuSans-111\"/>\n",
       "      <use x=\"220.849609\" xlink:href=\"#DejaVuSans-103\"/>\n",
       "      <use x=\"284.326172\" xlink:href=\"#DejaVuSans-105\"/>\n",
       "      <use x=\"312.109375\" xlink:href=\"#DejaVuSans-99\"/>\n",
       "      <use x=\"367.089844\" xlink:href=\"#DejaVuSans-97\"/>\n",
       "      <use x=\"428.369141\" xlink:href=\"#DejaVuSans-108\"/>\n",
       "      <use x=\"456.152344\" xlink:href=\"#DejaVuSans-41\"/>\n",
       "     </g>\n",
       "    </g>\n",
       "   </g>\n",
       "   <g id=\"patch_3\">\n",
       "    <path d=\"M 54 250.416 \n",
       "L 54 36.144 \n",
       "\" style=\"fill:none;stroke:#000000;stroke-linecap:square;stroke-linejoin:miter;stroke-width:0.8;\"/>\n",
       "   </g>\n",
       "   <g id=\"patch_4\">\n",
       "    <path d=\"M 321.84 250.416 \n",
       "L 321.84 36.144 \n",
       "\" style=\"fill:none;stroke:#000000;stroke-linecap:square;stroke-linejoin:miter;stroke-width:0.8;\"/>\n",
       "   </g>\n",
       "   <g id=\"patch_5\">\n",
       "    <path d=\"M 54 250.416 \n",
       "L 321.84 250.416 \n",
       "\" style=\"fill:none;stroke:#000000;stroke-linecap:square;stroke-linejoin:miter;stroke-width:0.8;\"/>\n",
       "   </g>\n",
       "   <g id=\"patch_6\">\n",
       "    <path d=\"M 54 36.144 \n",
       "L 321.84 36.144 \n",
       "\" style=\"fill:none;stroke:#000000;stroke-linecap:square;stroke-linejoin:miter;stroke-width:0.8;\"/>\n",
       "   </g>\n",
       "  </g>\n",
       "  <g id=\"axes_2\">\n",
       "   <g id=\"patch_7\">\n",
       "    <path clip-path=\"url(#p2a1493402d)\" d=\"M 338.58 252 \n",
       "L 338.58 251.150625 \n",
       "L 338.58 35.409375 \n",
       "L 338.58 34.56 \n",
       "L 349.452 34.56 \n",
       "L 349.452 35.409375 \n",
       "L 349.452 251.150625 \n",
       "L 349.452 252 \n",
       "z\n",
       "\" style=\"fill:#ffffff;stroke:#ffffff;stroke-linejoin:miter;stroke-width:0.01;\"/>\n",
       "   </g>\n",
       "   <image height=\"217\" id=\"imageb652c66dbf\" transform=\"scale(1 -1)translate(0 -217)\" width=\"10\" x=\"339\" xlink:href=\"data:image/png;base64,\n",
       "iVBORw0KGgoAAAANSUhEUgAAAAoAAADZCAYAAAAZmKE8AAABUklEQVR4nO2ayQ0CUQxDs30qowb6LwQYWniRHEUjwdmyYzth92e8LgOP8nCCszIPBtQzWmJpyuh0xgFGCPRMtfSma8rIt0e+ZnrpPdcXnxHhJlxvzohzzL1mGK4jTXO8Bq6QSsuXAjPieBpdY0YKpM3wrvVrJneNGRuLixkhUG9m4K73mtEHrn8iHTjXAddy6T0znJHhRprZc/1fXA3wDjdzj3Nld3iPeNZcQ+FehXBGfeANoHpGvWv4lmLCjD5Hl884wEgrxNK4wsV4Ql4hdq2XDlrhgLStxZPxpdLqeBqu1dJFXevNcEa9mYEZ13Ks+DBgDlSodp2brvVmIOOhZnAzyZuBQNwMZjxOK9xrhudI4zn+ptJqM42u5RXKpfWngDecVyh/neGLK5d+8DVDuM6MjNAK/rhndeBngEr6pXRgRgrkjHTGMvgXhKS/sQf88uMHTLaBaOo9r8QAAAAASUVORK5CYII=\" y=\"-35\"/>\n",
       "   <g id=\"matplotlib.axis_3\"/>\n",
       "   <g id=\"matplotlib.axis_4\">\n",
       "    <g id=\"ytick_9\">\n",
       "     <g id=\"line2d_14\">\n",
       "      <defs>\n",
       "       <path d=\"M 0 0 \n",
       "L 3.5 0 \n",
       "\" id=\"mab700f52c5\" style=\"stroke:#000000;stroke-width:0.8;\"/>\n",
       "      </defs>\n",
       "      <g>\n",
       "       <use style=\"stroke:#000000;stroke-width:0.8;\" x=\"349.452\" xlink:href=\"#mab700f52c5\" y=\"252\"/>\n",
       "      </g>\n",
       "     </g>\n",
       "     <g id=\"text_16\">\n",
       "      <!-- 0 -->\n",
       "      <g transform=\"translate(356.452 255.799219)scale(0.1 -0.1)\">\n",
       "       <use xlink:href=\"#DejaVuSans-48\"/>\n",
       "      </g>\n",
       "     </g>\n",
       "    </g>\n",
       "    <g id=\"ytick_10\">\n",
       "     <g id=\"line2d_15\">\n",
       "      <g>\n",
       "       <use style=\"stroke:#000000;stroke-width:0.8;\" x=\"349.452\" xlink:href=\"#mab700f52c5\" y=\"227.290909\"/>\n",
       "      </g>\n",
       "     </g>\n",
       "     <g id=\"text_17\">\n",
       "      <!-- 5 -->\n",
       "      <g transform=\"translate(356.452 231.090128)scale(0.1 -0.1)\">\n",
       "       <use xlink:href=\"#DejaVuSans-53\"/>\n",
       "      </g>\n",
       "     </g>\n",
       "    </g>\n",
       "    <g id=\"ytick_11\">\n",
       "     <g id=\"line2d_16\">\n",
       "      <g>\n",
       "       <use style=\"stroke:#000000;stroke-width:0.8;\" x=\"349.452\" xlink:href=\"#mab700f52c5\" y=\"202.581818\"/>\n",
       "      </g>\n",
       "     </g>\n",
       "     <g id=\"text_18\">\n",
       "      <!-- 10 -->\n",
       "      <g transform=\"translate(356.452 206.381037)scale(0.1 -0.1)\">\n",
       "       <use xlink:href=\"#DejaVuSans-49\"/>\n",
       "       <use x=\"63.623047\" xlink:href=\"#DejaVuSans-48\"/>\n",
       "      </g>\n",
       "     </g>\n",
       "    </g>\n",
       "    <g id=\"ytick_12\">\n",
       "     <g id=\"line2d_17\">\n",
       "      <g>\n",
       "       <use style=\"stroke:#000000;stroke-width:0.8;\" x=\"349.452\" xlink:href=\"#mab700f52c5\" y=\"177.872727\"/>\n",
       "      </g>\n",
       "     </g>\n",
       "     <g id=\"text_19\">\n",
       "      <!-- 15 -->\n",
       "      <g transform=\"translate(356.452 181.671946)scale(0.1 -0.1)\">\n",
       "       <use xlink:href=\"#DejaVuSans-49\"/>\n",
       "       <use x=\"63.623047\" xlink:href=\"#DejaVuSans-53\"/>\n",
       "      </g>\n",
       "     </g>\n",
       "    </g>\n",
       "    <g id=\"ytick_13\">\n",
       "     <g id=\"line2d_18\">\n",
       "      <g>\n",
       "       <use style=\"stroke:#000000;stroke-width:0.8;\" x=\"349.452\" xlink:href=\"#mab700f52c5\" y=\"153.163636\"/>\n",
       "      </g>\n",
       "     </g>\n",
       "     <g id=\"text_20\">\n",
       "      <!-- 20 -->\n",
       "      <g transform=\"translate(356.452 156.962855)scale(0.1 -0.1)\">\n",
       "       <use xlink:href=\"#DejaVuSans-50\"/>\n",
       "       <use x=\"63.623047\" xlink:href=\"#DejaVuSans-48\"/>\n",
       "      </g>\n",
       "     </g>\n",
       "    </g>\n",
       "    <g id=\"ytick_14\">\n",
       "     <g id=\"line2d_19\">\n",
       "      <g>\n",
       "       <use style=\"stroke:#000000;stroke-width:0.8;\" x=\"349.452\" xlink:href=\"#mab700f52c5\" y=\"128.454545\"/>\n",
       "      </g>\n",
       "     </g>\n",
       "     <g id=\"text_21\">\n",
       "      <!-- 25 -->\n",
       "      <g transform=\"translate(356.452 132.253764)scale(0.1 -0.1)\">\n",
       "       <use xlink:href=\"#DejaVuSans-50\"/>\n",
       "       <use x=\"63.623047\" xlink:href=\"#DejaVuSans-53\"/>\n",
       "      </g>\n",
       "     </g>\n",
       "    </g>\n",
       "    <g id=\"ytick_15\">\n",
       "     <g id=\"line2d_20\">\n",
       "      <g>\n",
       "       <use style=\"stroke:#000000;stroke-width:0.8;\" x=\"349.452\" xlink:href=\"#mab700f52c5\" y=\"103.745455\"/>\n",
       "      </g>\n",
       "     </g>\n",
       "     <g id=\"text_22\">\n",
       "      <!-- 30 -->\n",
       "      <g transform=\"translate(356.452 107.544673)scale(0.1 -0.1)\">\n",
       "       <use xlink:href=\"#DejaVuSans-51\"/>\n",
       "       <use x=\"63.623047\" xlink:href=\"#DejaVuSans-48\"/>\n",
       "      </g>\n",
       "     </g>\n",
       "    </g>\n",
       "    <g id=\"ytick_16\">\n",
       "     <g id=\"line2d_21\">\n",
       "      <g>\n",
       "       <use style=\"stroke:#000000;stroke-width:0.8;\" x=\"349.452\" xlink:href=\"#mab700f52c5\" y=\"79.036364\"/>\n",
       "      </g>\n",
       "     </g>\n",
       "     <g id=\"text_23\">\n",
       "      <!-- 35 -->\n",
       "      <g transform=\"translate(356.452 82.835582)scale(0.1 -0.1)\">\n",
       "       <use xlink:href=\"#DejaVuSans-51\"/>\n",
       "       <use x=\"63.623047\" xlink:href=\"#DejaVuSans-53\"/>\n",
       "      </g>\n",
       "     </g>\n",
       "    </g>\n",
       "    <g id=\"ytick_17\">\n",
       "     <g id=\"line2d_22\">\n",
       "      <g>\n",
       "       <use style=\"stroke:#000000;stroke-width:0.8;\" x=\"349.452\" xlink:href=\"#mab700f52c5\" y=\"54.327273\"/>\n",
       "      </g>\n",
       "     </g>\n",
       "     <g id=\"text_24\">\n",
       "      <!-- 40 -->\n",
       "      <g transform=\"translate(356.452 58.126491)scale(0.1 -0.1)\">\n",
       "       <use xlink:href=\"#DejaVuSans-52\"/>\n",
       "       <use x=\"63.623047\" xlink:href=\"#DejaVuSans-48\"/>\n",
       "      </g>\n",
       "     </g>\n",
       "    </g>\n",
       "   </g>\n",
       "   <g id=\"patch_8\">\n",
       "    <path d=\"M 338.58 252 \n",
       "L 338.58 251.150625 \n",
       "L 338.58 35.409375 \n",
       "L 338.58 34.56 \n",
       "L 349.452 34.56 \n",
       "L 349.452 35.409375 \n",
       "L 349.452 251.150625 \n",
       "L 349.452 252 \n",
       "z\n",
       "\" style=\"fill:none;stroke:#000000;stroke-linejoin:miter;stroke-width:0.8;\"/>\n",
       "   </g>\n",
       "  </g>\n",
       " </g>\n",
       " <defs>\n",
       "  <clipPath id=\"pb1d2c89c18\">\n",
       "   <rect height=\"214.272\" width=\"267.84\" x=\"54\" y=\"36.144\"/>\n",
       "  </clipPath>\n",
       "  <clipPath id=\"p2a1493402d\">\n",
       "   <rect height=\"217.44\" width=\"10.872\" x=\"338.58\" y=\"34.56\"/>\n",
       "  </clipPath>\n",
       " </defs>\n",
       "</svg>\n",
       "</details></div>"
      ],
      "text/plain": [
       "<DataIMG data set instance ''>"
      ]
     },
     "execution_count": 17,
     "metadata": {},
     "output_type": "execute_result"
    }
   ],
   "source": [
    "get_data()  # we take advantage of the \"rich interface\" to get nice output in a notebook."
   ]
  },
  {
   "cell_type": "markdown",
   "id": "pressing-thompson",
   "metadata": {},
   "source": [
    "In a normal Sherpa or `ipython` session I would use `image_data()` to view this data, butas already mentioned that's not great for a notebook I want to share, so we'll have to \"make our own\" plots. Fortunately the [get_data_image](https://cxc.cfa.harvard.edu/sherpa/ahelp/get_data_image.html) function and it's relatives let me get the data I need:"
   ]
  },
  {
   "cell_type": "code",
   "execution_count": 18,
   "id": "defensive-swift",
   "metadata": {},
   "outputs": [],
   "source": [
    "def myimage(idata):\n",
    "    plt.imshow(idata.y, origin='lower')\n",
    "    plt.colorbar()\n",
    "    plt.title(idata.name)\n",
    "    \n",
    "def myimage_data():\n",
    "    myimage(get_data_image())\n",
    "\n",
    "def myimage_model():\n",
    "    myimage(get_model_image())\n",
    "    \n",
    "def myimage_resid():\n",
    "    myimage(get_resid_image())"
   ]
  },
  {
   "cell_type": "code",
   "execution_count": 19,
   "id": "distant-hollywood",
   "metadata": {},
   "outputs": [
    {
     "data": {
      "image/png": "[encoded data removed]",
      "text/plain": [
       "<Figure size 432x288 with 2 Axes>"
      ]
     },
     "metadata": {
      "needs_background": "light"
     },
     "output_type": "display_data"
    }
   ],
   "source": [
    "myimage_data()"
   ]
  },
  {
   "cell_type": "markdown",
   "id": "advanced-ambassador",
   "metadata": {
    "tags": []
   },
   "source": [
    "Let's try fitting the background first, and assume we somehow know the correct functional form!"
   ]
  },
  {
   "cell_type": "code",
   "execution_count": 20,
   "id": "piano-portal",
   "metadata": {},
   "outputs": [],
   "source": [
    "set_source(polynom2d.bgnd)"
   ]
  },
  {
   "cell_type": "code",
   "execution_count": 21,
   "id": "measured-small",
   "metadata": {},
   "outputs": [
    {
     "data": {
      "text/html": [
       "<style>/*\n",
       "Copyright (C) 2020  Smithsonian Astrophysical Observatory\n",
       "\n",
       "\n",
       " This program is free software; you can redistribute it and/or modify\n",
       " it under the terms of the GNU General Public License as published by\n",
       " the Free Software Foundation; either version 3 of the License, or\n",
       " (at your option) any later version.\n",
       "\n",
       " This program is distributed in the hope that it will be useful,\n",
       " but WITHOUT ANY WARRANTY; without even the implied warranty of\n",
       " MERCHANTABILITY or FITNESS FOR A PARTICULAR PURPOSE.  See the\n",
       " GNU General Public License for more details.\n",
       "\n",
       " You should have received a copy of the GNU General Public License along\n",
       " with this program; if not, write to the Free Software Foundation, Inc.,\n",
       " 51 Franklin Street, Fifth Floor, Boston, MA 02110-1301 USA.\n",
       "\n",
       "*/\n",
       "\n",
       ":root {\n",
       "  --sherpa-border-color: var(--jp-border-color2, #e0e0e0);\n",
       "  --sherpa-background-color: var(--jp-layout-color0, white);\n",
       "  --sherpa-background-color-row-even: var(--jp-layout-color1, white);\n",
       "  --sherpa-background-color-row-odd: var(--jp-layout-color2, #eeeeee);\n",
       "\n",
       "  /* https://medium.com/ge-design/iot-cool-gray-is-a-great-background-color-for-data-visualization-ebf18c318418 */\n",
       "  --sherpa-background-color-dark1: #EBEFF2;\n",
       "  --sherpa-background-color-dark2: #D8E0E5;\n",
       "}\n",
       "\n",
       "div.sherpa-text-fallback {\n",
       "    display: none;\n",
       "}\n",
       "\n",
       "div.sherpa {\n",
       "    display: block;\n",
       "}\n",
       "\n",
       "div.sherpa details summary {\n",
       "    display: list-item;  /* needed for notebook, not lab */\n",
       "    font-size: larger;\n",
       "}\n",
       "\n",
       "div.sherpa details div.datavals {\n",
       "    display: grid;\n",
       "    grid-template-columns: 1fr 3fr;\n",
       "    column-gap: 0.5em;\n",
       "}\n",
       "\n",
       "div.sherpa div.dataname {\n",
       "    font-weight: bold;\n",
       "    border-right: 1px solid var(--sherpa-border-color);\n",
       "}\n",
       "\n",
       "div.sherpa div.dataval { }\n",
       "\n",
       "div.sherpa div.datavals div:nth-child(4n + 1) ,\n",
       "div.sherpa div.datavals div:nth-child(4n + 2) {\n",
       "    background: var(--sherpa-background-color-row-odd);\n",
       "}\n",
       "\n",
       "div.sherpa table.model tbody {\n",
       "    border-bottom: 1px solid var(--sherpa-border-color);\n",
       "}\n",
       "\n",
       "div.sherpa table.model tr.block {\n",
       "    border-top: 1px solid var(--sherpa-border-color);\n",
       "}\n",
       "\n",
       "div.sherpa table.model th.model-odd ,\n",
       "div.sherpa table.model th.model-even {\n",
       "    border-right: 1px solid var(--sherpa-border-color);\n",
       "}\n",
       "\n",
       "div.sherpa table.model th.model-odd {\n",
       "    background: var(--sherpa-background-color-dark1);\n",
       "}\n",
       "\n",
       "div.sherpa table.model th.model-even {\n",
       "    background: var(--sherpa-background-color-dark2);\n",
       "}\n",
       "\n",
       "div.sherpa .failed {\n",
       "    background: orange;\n",
       "    font-size: large;\n",
       "    padding: 1em;\n",
       "}\n",
       "</style><div class=\"sherpa-text-fallback\">&lt;Polynom2D model instance &#x27;polynom2d.bgnd&#x27;&gt;</div><div hidden class=\"sherpa\"><details open><summary>Model</summary><table class=\"model\"><caption>Expression: polynom2d.bgnd</caption><thead><tr><th>Component</th><th>Parameter</th><th>Thawed</th><th>Value</th><th>Min</th><th>Max</th><th>Units</th></tr></thead><tbody><tr><th class=\"model-odd\" scope=\"rowgroup\" rowspan=9>bgnd</th><td>c</td><td><input disabled type=\"checkbox\" checked></input></td><td>1.0</td><td>-MAX</td><td>MAX</td><td></td></tr><tr><td>cy1</td><td><input disabled type=\"checkbox\" checked></input></td><td>0.0</td><td>-MAX</td><td>MAX</td><td></td></tr><tr><td>cy2</td><td><input disabled type=\"checkbox\" checked></input></td><td>0.0</td><td>-MAX</td><td>MAX</td><td></td></tr><tr><td>cx1</td><td><input disabled type=\"checkbox\" checked></input></td><td>0.0</td><td>-MAX</td><td>MAX</td><td></td></tr><tr><td>cx1y1</td><td><input disabled type=\"checkbox\" checked></input></td><td>0.0</td><td>-MAX</td><td>MAX</td><td></td></tr><tr><td>cx1y2</td><td><input disabled type=\"checkbox\" checked></input></td><td>0.0</td><td>-MAX</td><td>MAX</td><td></td></tr><tr><td>cx2</td><td><input disabled type=\"checkbox\" checked></input></td><td>0.0</td><td>-MAX</td><td>MAX</td><td></td></tr><tr><td>cx2y1</td><td><input disabled type=\"checkbox\" checked></input></td><td>0.0</td><td>-MAX</td><td>MAX</td><td></td></tr><tr><td>cx2y2</td><td><input disabled type=\"checkbox\" checked></input></td><td>0.0</td><td>-MAX</td><td>MAX</td><td></td></tr></tbody></table></details></div>"
      ],
      "text/plain": [
       "<Polynom2D model instance 'polynom2d.bgnd'>"
      ]
     },
     "execution_count": 21,
     "metadata": {},
     "output_type": "execute_result"
    }
   ],
   "source": [
    "get_source()"
   ]
  },
  {
   "cell_type": "code",
   "execution_count": 22,
   "id": "unnecessary-trunk",
   "metadata": {},
   "outputs": [],
   "source": [
    "# Freee all the parameters and then thaw the ones I want\n",
    "freeze(bgnd)\n",
    "\n",
    "thaw(bgnd.c)\n",
    "thaw(bgnd.cx1)\n",
    "thaw(bgnd.cy1)"
   ]
  },
  {
   "cell_type": "code",
   "execution_count": 23,
   "id": "sealed-standing",
   "metadata": {},
   "outputs": [],
   "source": [
    "set_stat('cash')  # its Poisson data!"
   ]
  },
  {
   "cell_type": "code",
   "execution_count": 24,
   "id": "assigned-secretariat",
   "metadata": {},
   "outputs": [
    {
     "name": "stdout",
     "output_type": "stream",
     "text": [
      "Dataset               = 1\n",
      "Method                = levmar\n",
      "Statistic             = cash\n",
      "Initial fit statistic = 4000\n",
      "Final fit statistic   = -93032.8 at function evaluation 25\n",
      "Data points           = 2000\n",
      "Degrees of freedom    = 1997\n",
      "Change in statistic   = 97032.8\n",
      "   bgnd.c         12.7308      +/- 0.226502    \n",
      "   bgnd.cy1       0.140146     +/- 0.00734769  \n",
      "   bgnd.cx1       -0.0598947   +/- 0.00590221  \n"
     ]
    }
   ],
   "source": [
    "fit()"
   ]
  },
  {
   "cell_type": "code",
   "execution_count": 25,
   "id": "critical-bikini",
   "metadata": {},
   "outputs": [
    {
     "data": {
      "image/png": "[encoded data removed]",
      "text/plain": [
       "<Figure size 432x288 with 2 Axes>"
      ]
     },
     "metadata": {
      "needs_background": "light"
     },
     "output_type": "display_data"
    }
   ],
   "source": [
    "myimage_model()"
   ]
  },
  {
   "cell_type": "markdown",
   "id": "tough-religion",
   "metadata": {},
   "source": [
    "This is surprisingly (to me) close to the truth, even with the emission from the source included. In reality youre not going to know the functional form of the data!"
   ]
  },
  {
   "cell_type": "code",
   "execution_count": 26,
   "id": "faced-architect",
   "metadata": {},
   "outputs": [
    {
     "data": {
      "text/html": [
       "<style>/*\n",
       "Copyright (C) 2020  Smithsonian Astrophysical Observatory\n",
       "\n",
       "\n",
       " This program is free software; you can redistribute it and/or modify\n",
       " it under the terms of the GNU General Public License as published by\n",
       " the Free Software Foundation; either version 3 of the License, or\n",
       " (at your option) any later version.\n",
       "\n",
       " This program is distributed in the hope that it will be useful,\n",
       " but WITHOUT ANY WARRANTY; without even the implied warranty of\n",
       " MERCHANTABILITY or FITNESS FOR A PARTICULAR PURPOSE.  See the\n",
       " GNU General Public License for more details.\n",
       "\n",
       " You should have received a copy of the GNU General Public License along\n",
       " with this program; if not, write to the Free Software Foundation, Inc.,\n",
       " 51 Franklin Street, Fifth Floor, Boston, MA 02110-1301 USA.\n",
       "\n",
       "*/\n",
       "\n",
       ":root {\n",
       "  --sherpa-border-color: var(--jp-border-color2, #e0e0e0);\n",
       "  --sherpa-background-color: var(--jp-layout-color0, white);\n",
       "  --sherpa-background-color-row-even: var(--jp-layout-color1, white);\n",
       "  --sherpa-background-color-row-odd: var(--jp-layout-color2, #eeeeee);\n",
       "\n",
       "  /* https://medium.com/ge-design/iot-cool-gray-is-a-great-background-color-for-data-visualization-ebf18c318418 */\n",
       "  --sherpa-background-color-dark1: #EBEFF2;\n",
       "  --sherpa-background-color-dark2: #D8E0E5;\n",
       "}\n",
       "\n",
       "div.sherpa-text-fallback {\n",
       "    display: none;\n",
       "}\n",
       "\n",
       "div.sherpa {\n",
       "    display: block;\n",
       "}\n",
       "\n",
       "div.sherpa details summary {\n",
       "    display: list-item;  /* needed for notebook, not lab */\n",
       "    font-size: larger;\n",
       "}\n",
       "\n",
       "div.sherpa details div.datavals {\n",
       "    display: grid;\n",
       "    grid-template-columns: 1fr 3fr;\n",
       "    column-gap: 0.5em;\n",
       "}\n",
       "\n",
       "div.sherpa div.dataname {\n",
       "    font-weight: bold;\n",
       "    border-right: 1px solid var(--sherpa-border-color);\n",
       "}\n",
       "\n",
       "div.sherpa div.dataval { }\n",
       "\n",
       "div.sherpa div.datavals div:nth-child(4n + 1) ,\n",
       "div.sherpa div.datavals div:nth-child(4n + 2) {\n",
       "    background: var(--sherpa-background-color-row-odd);\n",
       "}\n",
       "\n",
       "div.sherpa table.model tbody {\n",
       "    border-bottom: 1px solid var(--sherpa-border-color);\n",
       "}\n",
       "\n",
       "div.sherpa table.model tr.block {\n",
       "    border-top: 1px solid var(--sherpa-border-color);\n",
       "}\n",
       "\n",
       "div.sherpa table.model th.model-odd ,\n",
       "div.sherpa table.model th.model-even {\n",
       "    border-right: 1px solid var(--sherpa-border-color);\n",
       "}\n",
       "\n",
       "div.sherpa table.model th.model-odd {\n",
       "    background: var(--sherpa-background-color-dark1);\n",
       "}\n",
       "\n",
       "div.sherpa table.model th.model-even {\n",
       "    background: var(--sherpa-background-color-dark2);\n",
       "}\n",
       "\n",
       "div.sherpa .failed {\n",
       "    background: orange;\n",
       "    font-size: large;\n",
       "    padding: 1em;\n",
       "}\n",
       "</style><div class=\"sherpa-text-fallback\">&lt;Polynom2D model instance &#x27;polynom2d.true_bgnd&#x27;&gt;</div><div hidden class=\"sherpa\"><details open><summary>Model</summary><table class=\"model\"><caption>Expression: polynom2d.true_bgnd</caption><thead><tr><th>Component</th><th>Parameter</th><th>Thawed</th><th>Value</th><th>Min</th><th>Max</th><th>Units</th></tr></thead><tbody><tr><th class=\"model-odd\" scope=\"rowgroup\" rowspan=9>true_bgnd</th><td>c</td><td><input disabled type=\"checkbox\" checked></input></td><td>10.0</td><td>-MAX</td><td>MAX</td><td></td></tr><tr><td>cy1</td><td><input disabled type=\"checkbox\" checked></input></td><td>0.2</td><td>-MAX</td><td>MAX</td><td></td></tr><tr><td>cy2</td><td><input disabled type=\"checkbox\" checked></input></td><td>0.0</td><td>-MAX</td><td>MAX</td><td></td></tr><tr><td>cx1</td><td><input disabled type=\"checkbox\" checked></input></td><td>-0.1</td><td>-MAX</td><td>MAX</td><td></td></tr><tr><td>cx1y1</td><td><input disabled type=\"checkbox\" checked></input></td><td>0.0</td><td>-MAX</td><td>MAX</td><td></td></tr><tr><td>cx1y2</td><td><input disabled type=\"checkbox\" checked></input></td><td>0.0</td><td>-MAX</td><td>MAX</td><td></td></tr><tr><td>cx2</td><td><input disabled type=\"checkbox\" checked></input></td><td>0.0</td><td>-MAX</td><td>MAX</td><td></td></tr><tr><td>cx2y1</td><td><input disabled type=\"checkbox\" checked></input></td><td>0.0</td><td>-MAX</td><td>MAX</td><td></td></tr><tr><td>cx2y2</td><td><input disabled type=\"checkbox\" checked></input></td><td>0.0</td><td>-MAX</td><td>MAX</td><td></td></tr></tbody></table></details></div>"
      ],
      "text/plain": [
       "<Polynom2D model instance 'polynom2d.true_bgnd'>"
      ]
     },
     "execution_count": 26,
     "metadata": {},
     "output_type": "execute_result"
    }
   ],
   "source": [
    "true_bgnd"
   ]
  },
  {
   "cell_type": "markdown",
   "id": "controlling-darkness",
   "metadata": {},
   "source": [
    "Let's add the source:"
   ]
  },
  {
   "cell_type": "code",
   "execution_count": 27,
   "id": "developing-litigation",
   "metadata": {},
   "outputs": [],
   "source": [
    "set_source(beta2d.blob + bgnd)"
   ]
  },
  {
   "cell_type": "markdown",
   "id": "copyrighted-sewing",
   "metadata": {},
   "source": [
    "It can be important to \"guide\" 2D models to a sensible starting point (and range of parameters). The [guess](https://cxc.cfa.harvard.edu/sherpa/ahelp/guess.html) functino **can** help with this, but the results should be checked as it it not very clever, and could lead you down a rabbit hole not of your choosing!"
   ]
  },
  {
   "cell_type": "code",
   "execution_count": 28,
   "id": "conventional-residence",
   "metadata": {},
   "outputs": [
    {
     "data": {
      "text/html": [
       "<style>/*\n",
       "Copyright (C) 2020  Smithsonian Astrophysical Observatory\n",
       "\n",
       "\n",
       " This program is free software; you can redistribute it and/or modify\n",
       " it under the terms of the GNU General Public License as published by\n",
       " the Free Software Foundation; either version 3 of the License, or\n",
       " (at your option) any later version.\n",
       "\n",
       " This program is distributed in the hope that it will be useful,\n",
       " but WITHOUT ANY WARRANTY; without even the implied warranty of\n",
       " MERCHANTABILITY or FITNESS FOR A PARTICULAR PURPOSE.  See the\n",
       " GNU General Public License for more details.\n",
       "\n",
       " You should have received a copy of the GNU General Public License along\n",
       " with this program; if not, write to the Free Software Foundation, Inc.,\n",
       " 51 Franklin Street, Fifth Floor, Boston, MA 02110-1301 USA.\n",
       "\n",
       "*/\n",
       "\n",
       ":root {\n",
       "  --sherpa-border-color: var(--jp-border-color2, #e0e0e0);\n",
       "  --sherpa-background-color: var(--jp-layout-color0, white);\n",
       "  --sherpa-background-color-row-even: var(--jp-layout-color1, white);\n",
       "  --sherpa-background-color-row-odd: var(--jp-layout-color2, #eeeeee);\n",
       "\n",
       "  /* https://medium.com/ge-design/iot-cool-gray-is-a-great-background-color-for-data-visualization-ebf18c318418 */\n",
       "  --sherpa-background-color-dark1: #EBEFF2;\n",
       "  --sherpa-background-color-dark2: #D8E0E5;\n",
       "}\n",
       "\n",
       "div.sherpa-text-fallback {\n",
       "    display: none;\n",
       "}\n",
       "\n",
       "div.sherpa {\n",
       "    display: block;\n",
       "}\n",
       "\n",
       "div.sherpa details summary {\n",
       "    display: list-item;  /* needed for notebook, not lab */\n",
       "    font-size: larger;\n",
       "}\n",
       "\n",
       "div.sherpa details div.datavals {\n",
       "    display: grid;\n",
       "    grid-template-columns: 1fr 3fr;\n",
       "    column-gap: 0.5em;\n",
       "}\n",
       "\n",
       "div.sherpa div.dataname {\n",
       "    font-weight: bold;\n",
       "    border-right: 1px solid var(--sherpa-border-color);\n",
       "}\n",
       "\n",
       "div.sherpa div.dataval { }\n",
       "\n",
       "div.sherpa div.datavals div:nth-child(4n + 1) ,\n",
       "div.sherpa div.datavals div:nth-child(4n + 2) {\n",
       "    background: var(--sherpa-background-color-row-odd);\n",
       "}\n",
       "\n",
       "div.sherpa table.model tbody {\n",
       "    border-bottom: 1px solid var(--sherpa-border-color);\n",
       "}\n",
       "\n",
       "div.sherpa table.model tr.block {\n",
       "    border-top: 1px solid var(--sherpa-border-color);\n",
       "}\n",
       "\n",
       "div.sherpa table.model th.model-odd ,\n",
       "div.sherpa table.model th.model-even {\n",
       "    border-right: 1px solid var(--sherpa-border-color);\n",
       "}\n",
       "\n",
       "div.sherpa table.model th.model-odd {\n",
       "    background: var(--sherpa-background-color-dark1);\n",
       "}\n",
       "\n",
       "div.sherpa table.model th.model-even {\n",
       "    background: var(--sherpa-background-color-dark2);\n",
       "}\n",
       "\n",
       "div.sherpa .failed {\n",
       "    background: orange;\n",
       "    font-size: large;\n",
       "    padding: 1em;\n",
       "}\n",
       "</style><div class=\"sherpa-text-fallback\">&lt;Beta2D model instance &#x27;beta2d.blob&#x27;&gt;</div><div hidden class=\"sherpa\"><details open><summary>Model</summary><table class=\"model\"><caption>Expression: beta2d.blob</caption><thead><tr><th>Component</th><th>Parameter</th><th>Thawed</th><th>Value</th><th>Min</th><th>Max</th><th>Units</th></tr></thead><tbody><tr><th class=\"model-odd\" scope=\"rowgroup\" rowspan=7>blob</th><td>r0</td><td><input disabled type=\"checkbox\" checked></input></td><td>10.0</td><td>TINY</td><td>MAX</td><td></td></tr><tr><td>xpos</td><td><input disabled type=\"checkbox\" checked></input></td><td>0.0</td><td>-MAX</td><td>MAX</td><td></td></tr><tr><td>ypos</td><td><input disabled type=\"checkbox\" checked></input></td><td>0.0</td><td>-MAX</td><td>MAX</td><td></td></tr><tr><td>ellip</td><td><input disabled type=\"checkbox\"></input></td><td>0.0</td><td>0.0</td><td>0.999</td><td></td></tr><tr><td>theta</td><td><input disabled type=\"checkbox\"></input></td><td>0.0</td><td>-2&#960;</td><td>2&#960;</td><td>radians</td></tr><tr><td>ampl</td><td><input disabled type=\"checkbox\" checked></input></td><td>1.0</td><td>-MAX</td><td>MAX</td><td></td></tr><tr><td>alpha</td><td><input disabled type=\"checkbox\" checked></input></td><td>1.0</td><td>-10.0</td><td>10.0</td><td></td></tr></tbody></table></details></div>"
      ],
      "text/plain": [
       "<Beta2D model instance 'beta2d.blob'>"
      ]
     },
     "execution_count": 28,
     "metadata": {},
     "output_type": "execute_result"
    }
   ],
   "source": [
    "blob"
   ]
  },
  {
   "cell_type": "code",
   "execution_count": 29,
   "id": "declared-bundle",
   "metadata": {},
   "outputs": [],
   "source": [
    "guess(blob)"
   ]
  },
  {
   "cell_type": "code",
   "execution_count": 30,
   "id": "experienced-moses",
   "metadata": {},
   "outputs": [
    {
     "data": {
      "text/html": [
       "<style>/*\n",
       "Copyright (C) 2020  Smithsonian Astrophysical Observatory\n",
       "\n",
       "\n",
       " This program is free software; you can redistribute it and/or modify\n",
       " it under the terms of the GNU General Public License as published by\n",
       " the Free Software Foundation; either version 3 of the License, or\n",
       " (at your option) any later version.\n",
       "\n",
       " This program is distributed in the hope that it will be useful,\n",
       " but WITHOUT ANY WARRANTY; without even the implied warranty of\n",
       " MERCHANTABILITY or FITNESS FOR A PARTICULAR PURPOSE.  See the\n",
       " GNU General Public License for more details.\n",
       "\n",
       " You should have received a copy of the GNU General Public License along\n",
       " with this program; if not, write to the Free Software Foundation, Inc.,\n",
       " 51 Franklin Street, Fifth Floor, Boston, MA 02110-1301 USA.\n",
       "\n",
       "*/\n",
       "\n",
       ":root {\n",
       "  --sherpa-border-color: var(--jp-border-color2, #e0e0e0);\n",
       "  --sherpa-background-color: var(--jp-layout-color0, white);\n",
       "  --sherpa-background-color-row-even: var(--jp-layout-color1, white);\n",
       "  --sherpa-background-color-row-odd: var(--jp-layout-color2, #eeeeee);\n",
       "\n",
       "  /* https://medium.com/ge-design/iot-cool-gray-is-a-great-background-color-for-data-visualization-ebf18c318418 */\n",
       "  --sherpa-background-color-dark1: #EBEFF2;\n",
       "  --sherpa-background-color-dark2: #D8E0E5;\n",
       "}\n",
       "\n",
       "div.sherpa-text-fallback {\n",
       "    display: none;\n",
       "}\n",
       "\n",
       "div.sherpa {\n",
       "    display: block;\n",
       "}\n",
       "\n",
       "div.sherpa details summary {\n",
       "    display: list-item;  /* needed for notebook, not lab */\n",
       "    font-size: larger;\n",
       "}\n",
       "\n",
       "div.sherpa details div.datavals {\n",
       "    display: grid;\n",
       "    grid-template-columns: 1fr 3fr;\n",
       "    column-gap: 0.5em;\n",
       "}\n",
       "\n",
       "div.sherpa div.dataname {\n",
       "    font-weight: bold;\n",
       "    border-right: 1px solid var(--sherpa-border-color);\n",
       "}\n",
       "\n",
       "div.sherpa div.dataval { }\n",
       "\n",
       "div.sherpa div.datavals div:nth-child(4n + 1) ,\n",
       "div.sherpa div.datavals div:nth-child(4n + 2) {\n",
       "    background: var(--sherpa-background-color-row-odd);\n",
       "}\n",
       "\n",
       "div.sherpa table.model tbody {\n",
       "    border-bottom: 1px solid var(--sherpa-border-color);\n",
       "}\n",
       "\n",
       "div.sherpa table.model tr.block {\n",
       "    border-top: 1px solid var(--sherpa-border-color);\n",
       "}\n",
       "\n",
       "div.sherpa table.model th.model-odd ,\n",
       "div.sherpa table.model th.model-even {\n",
       "    border-right: 1px solid var(--sherpa-border-color);\n",
       "}\n",
       "\n",
       "div.sherpa table.model th.model-odd {\n",
       "    background: var(--sherpa-background-color-dark1);\n",
       "}\n",
       "\n",
       "div.sherpa table.model th.model-even {\n",
       "    background: var(--sherpa-background-color-dark2);\n",
       "}\n",
       "\n",
       "div.sherpa .failed {\n",
       "    background: orange;\n",
       "    font-size: large;\n",
       "    padding: 1em;\n",
       "}\n",
       "</style><div class=\"sherpa-text-fallback\">&lt;Beta2D model instance &#x27;beta2d.blob&#x27;&gt;</div><div hidden class=\"sherpa\"><details open><summary>Model</summary><table class=\"model\"><caption>Expression: beta2d.blob</caption><thead><tr><th>Component</th><th>Parameter</th><th>Thawed</th><th>Value</th><th>Min</th><th>Max</th><th>Units</th></tr></thead><tbody><tr><th class=\"model-odd\" scope=\"rowgroup\" rowspan=7>blob</th><td>r0</td><td><input disabled type=\"checkbox\" checked></input></td><td>10.0</td><td>0.01</td><td>10000.0</td><td></td></tr><tr><td>xpos</td><td><input disabled type=\"checkbox\" checked></input></td><td>30.0</td><td>1.0</td><td>50.0</td><td></td></tr><tr><td>ypos</td><td><input disabled type=\"checkbox\" checked></input></td><td>15.0</td><td>1.0</td><td>40.0</td><td></td></tr><tr><td>ellip</td><td><input disabled type=\"checkbox\"></input></td><td>0.0</td><td>0.0</td><td>0.999</td><td></td></tr><tr><td>theta</td><td><input disabled type=\"checkbox\"></input></td><td>0.0</td><td>-2&#960;</td><td>2&#960;</td><td>radians</td></tr><tr><td>ampl</td><td><input disabled type=\"checkbox\" checked></input></td><td>44.0</td><td>0.044</td><td>44000.0</td><td></td></tr><tr><td>alpha</td><td><input disabled type=\"checkbox\" checked></input></td><td>1.0</td><td>-10.0</td><td>10.0</td><td></td></tr></tbody></table></details></div>"
      ],
      "text/plain": [
       "<Beta2D model instance 'beta2d.blob'>"
      ]
     },
     "execution_count": 30,
     "metadata": {},
     "output_type": "execute_result"
    }
   ],
   "source": [
    "blob"
   ]
  },
  {
   "cell_type": "markdown",
   "id": "searching-advisory",
   "metadata": {
    "tags": []
   },
   "source": [
    "Fortunately for this dataset the guess works out quite well, but you can somethimes find parameters like the position or scale factors poorly chosen."
   ]
  },
  {
   "cell_type": "code",
   "execution_count": 31,
   "id": "collaborative-shepherd",
   "metadata": {},
   "outputs": [
    {
     "data": {
      "image/png": "[encoded data removed]",
      "text/plain": [
       "<Figure size 432x288 with 2 Axes>"
      ]
     },
     "metadata": {
      "needs_background": "light"
     },
     "output_type": "display_data"
    }
   ],
   "source": [
    "myimage_model()"
   ]
  },
  {
   "cell_type": "code",
   "execution_count": 32,
   "id": "important-agenda",
   "metadata": {},
   "outputs": [
    {
     "name": "stdout",
     "output_type": "stream",
     "text": [
      "Dataset               = 1\n",
      "Method                = levmar\n",
      "Statistic             = cash\n",
      "Initial fit statistic = -77704.4\n",
      "Final fit statistic   = -94619.5 at function evaluation 64\n",
      "Data points           = 2000\n",
      "Degrees of freedom    = 1992\n",
      "Change in statistic   = 16915.1\n",
      "   blob.r0        6.35539      +/- 1.32028     \n",
      "   blob.xpos      30.1259      +/- 0.19911     \n",
      "   blob.ypos      15.6909      +/- 0.201626    \n",
      "   blob.ampl      22.6123      +/- 1.62862     \n",
      "   blob.alpha     1.21176      +/- 0.308574    \n",
      "   bgnd.c         9.66362      +/- 0.469616    \n",
      "   bgnd.cy1       0.203777     +/- 0.00788082  \n",
      "   bgnd.cx1       -0.106371    +/- 0.00637819  \n"
     ]
    }
   ],
   "source": [
    "fit()"
   ]
  },
  {
   "cell_type": "code",
   "execution_count": 33,
   "id": "continent-catch",
   "metadata": {},
   "outputs": [
    {
     "name": "stdout",
     "output_type": "stream",
     "text": [
      "Dataset               = 1\n",
      "Method                = levmar\n",
      "Statistic             = cash\n",
      "Initial fit statistic = -94619.5\n",
      "Final fit statistic   = -94619.5 at function evaluation 19\n",
      "Data points           = 2000\n",
      "Degrees of freedom    = 1992\n",
      "Change in statistic   = 4.40117e-06\n",
      "   blob.r0        6.35671      +/- 1.31925     \n",
      "   blob.xpos      30.1259      +/- 0.199099    \n",
      "   blob.ypos      15.6908      +/- 0.201614    \n",
      "   blob.ampl      22.6108      +/- 1.62941     \n",
      "   blob.alpha     1.21203      +/- 0.308211    \n",
      "   bgnd.c         9.66388      +/- 0.469883    \n",
      "   bgnd.cy1       0.203778     +/- 0.00788075  \n",
      "   bgnd.cx1       -0.10637     +/- 0.00637818  \n"
     ]
    }
   ],
   "source": [
    "fit()"
   ]
  },
  {
   "cell_type": "code",
   "execution_count": 34,
   "id": "applied-security",
   "metadata": {},
   "outputs": [
    {
     "data": {
      "image/png": "[encoded data removed]",
      "text/plain": [
       "<Figure size 432x288 with 2 Axes>"
      ]
     },
     "metadata": {
      "needs_background": "light"
     },
     "output_type": "display_data"
    }
   ],
   "source": [
    "myimage_model()"
   ]
  },
  {
   "cell_type": "code",
   "execution_count": 35,
   "id": "peripheral-morrison",
   "metadata": {},
   "outputs": [
    {
     "data": {
      "image/png": "[encoded data removed]",
      "text/plain": [
       "<Figure size 432x288 with 2 Axes>"
      ]
     },
     "metadata": {
      "needs_background": "light"
     },
     "output_type": "display_data"
    }
   ],
   "source": [
    "myimage_resid()"
   ]
  },
  {
   "cell_type": "markdown",
   "id": "increasing-reason",
   "metadata": {},
   "source": [
    "So, it seems to have done a good fit.\n",
    "\n",
    "# Checking the radial profile\n",
    "\n",
    "Let's check on what the radial profile looks like, using the `sherpa_contrib.profiles` module from the `ciao-contrib` package."
   ]
  },
  {
   "cell_type": "code",
   "execution_count": 36,
   "id": "opponent-admission",
   "metadata": {},
   "outputs": [],
   "source": [
    "from sherpa_contrib.profiles import *"
   ]
  },
  {
   "cell_type": "markdown",
   "id": "operating-thursday",
   "metadata": {
    "tags": []
   },
   "source": [
    "This module provides a number of routines that act like the `plot_xxx` family of commands but take a 2D dataset, create a radial profile based on the current module (e.g. it's center and ellipcity), and then use this to plot up the data, model, and related commands. Here we can look at the radial profile of the fit and see it looks pretty good (although the asymmetry of the background limits how much you should \"trust\" this presentation."
   ]
  },
  {
   "cell_type": "code",
   "execution_count": 37,
   "id": "failing-greece",
   "metadata": {},
   "outputs": [
    {
     "data": {
      "image/png": "[encoded data removed]",
      "text/plain": [
       "<Figure size 432x288 with 1 Axes>"
      ]
     },
     "metadata": {
      "needs_background": "light"
     },
     "output_type": "display_data"
    }
   ],
   "source": [
    "prof_fit()"
   ]
  },
  {
   "cell_type": "markdown",
   "id": "continental-technology",
   "metadata": {
    "tags": []
   },
   "source": [
    "# What about ignoring regions?\n",
    "\n",
    "For 1D data we use `notice` and `ignore`, for 2D data we pass in regons using [notice2d](https://cxc.cfa.harvard.edu/sherpa/ahelp/notice2d.html) and [ignore2d](https://cxc.cfa.harvard.edu/sherpa/ahelp/ignore2d.html)$\\dagger$.\n",
    "\n",
    "---\n",
    "\n",
    "$\\dagger$ this is another time that being able to use ds9 is helpful, as you can set up a bunch of regions in ds9 and then use [notice2d_image](https://cxc.cfa.harvard.edu/sherpa/ahelp/notice2d.html_image) or [ignore2d_image](https://cxc.cfa.harvard.edu/sherpa/ahelp/ignore2d_image.html)."
   ]
  },
  {
   "cell_type": "code",
   "execution_count": 38,
   "id": "current-omega",
   "metadata": {},
   "outputs": [
    {
     "data": {
      "image/png": "[encoded data removed]",
      "text/plain": [
       "<Figure size 432x288 with 2 Axes>"
      ]
     },
     "metadata": {
      "needs_background": "light"
     },
     "output_type": "display_data"
    }
   ],
   "source": [
    "myimage_data()"
   ]
  },
  {
   "cell_type": "code",
   "execution_count": 39,
   "id": "further-reading",
   "metadata": {},
   "outputs": [
    {
     "name": "stdout",
     "output_type": "stream",
     "text": [
      "Dataset               = 1\n",
      "Statistic             = cash\n",
      "Fit statistic value   = -94619.5\n",
      "Data points           = 2000\n",
      "Degrees of freedom    = 1992\n"
     ]
    }
   ],
   "source": [
    "calc_stat_info()"
   ]
  },
  {
   "cell_type": "code",
   "execution_count": 40,
   "id": "listed-destination",
   "metadata": {},
   "outputs": [],
   "source": [
    "ignore2d('circle(10, 30, 5)')"
   ]
  },
  {
   "cell_type": "code",
   "execution_count": 41,
   "id": "boxed-wholesale",
   "metadata": {},
   "outputs": [
    {
     "name": "stdout",
     "output_type": "stream",
     "text": [
      "Dataset               = 1\n",
      "Statistic             = cash\n",
      "Fit statistic value   = -90265.9\n",
      "Data points           = 1919\n",
      "Degrees of freedom    = 1911\n"
     ]
    }
   ],
   "source": [
    "# Note that the number of data points (and hence the degrees of freedom)\n",
    "# have reduced now\n",
    "#\n",
    "calc_stat_info()"
   ]
  },
  {
   "cell_type": "code",
   "execution_count": 42,
   "id": "substantial-asbestos",
   "metadata": {},
   "outputs": [
    {
     "data": {
      "image/png": "[encoded data removed]",
      "text/plain": [
       "<Figure size 432x288 with 2 Axes>"
      ]
     },
     "metadata": {
      "needs_background": "light"
     },
     "output_type": "display_data"
    }
   ],
   "source": [
    "myimage_data()"
   ]
  },
  {
   "cell_type": "markdown",
   "id": "south-camcorder",
   "metadata": {},
   "source": [
    "# How good is the fit?\n",
    "\n",
    "Using the Cash statistic we have no way to easily determine how \"good\" the fit is (you'd probably have to do a lot of simulations to get a handle on it).\n",
    "\n",
    "One alternative is to switch to the [cstat statistic](https://cxc.cfa.harvard.edu/sherpa/ahelp/cstat.html) which comes from XSPEC and is an **approximation** and so should be used carefully."
   ]
  },
  {
   "cell_type": "code",
   "execution_count": 43,
   "id": "solved-drinking",
   "metadata": {},
   "outputs": [
    {
     "name": "stdout",
     "output_type": "stream",
     "text": [
      "Dataset               = 1\n",
      "Method                = levmar\n",
      "Statistic             = cash\n",
      "Initial fit statistic = -90265.9\n",
      "Final fit statistic   = -90265.9 at function evaluation 19\n",
      "Data points           = 1919\n",
      "Degrees of freedom    = 1911\n",
      "Change in statistic   = 0.00352278\n",
      "   blob.r0        6.37233      +/- 1.3208      \n",
      "   blob.xpos      30.128       +/- 0.199271    \n",
      "   blob.ypos      15.6903      +/- 0.201837    \n",
      "   blob.ampl      22.5968      +/- 1.62399     \n",
      "   blob.alpha     1.21701      +/- 0.309459    \n",
      "   bgnd.c         9.67981      +/- 0.468514    \n",
      "   bgnd.cy1       0.203819     +/- 0.00798543  \n",
      "   bgnd.cx1       -0.106557    +/- 0.00648164  \n"
     ]
    }
   ],
   "source": [
    "# Check we are at the \"best-fit\" location with cash as we've just removed a few bins:\n",
    "fit()"
   ]
  },
  {
   "cell_type": "code",
   "execution_count": 44,
   "id": "parallel-asthma",
   "metadata": {},
   "outputs": [],
   "source": [
    "set_stat('cstat')"
   ]
  },
  {
   "cell_type": "code",
   "execution_count": 45,
   "id": "varying-gospel",
   "metadata": {},
   "outputs": [
    {
     "name": "stdout",
     "output_type": "stream",
     "text": [
      "Dataset               = 1\n",
      "Method                = levmar\n",
      "Statistic             = cstat\n",
      "Initial fit statistic = 2039.71\n",
      "Final fit statistic   = 2039.71 at function evaluation 19\n",
      "Data points           = 1919\n",
      "Degrees of freedom    = 1911\n",
      "Probability [Q-value] = 0.0202992\n",
      "Reduced statistic     = 1.06735\n",
      "Change in statistic   = 2.266e-06\n",
      "   blob.r0        6.37308      +/- 1.31022     \n",
      "   blob.xpos      30.128       +/- 0.199254    \n",
      "   blob.ypos      15.6903      +/- 0.201825    \n",
      "   blob.ampl      22.596       +/- 1.61663     \n",
      "   blob.alpha     1.21717      +/- 0.306775    \n",
      "   bgnd.c         9.67997      +/- 0.465706    \n",
      "   bgnd.cy1       0.203819     +/- 0.0079846   \n",
      "   bgnd.cx1       -0.106557    +/- 0.00647844  \n"
     ]
    }
   ],
   "source": [
    "fit()"
   ]
  },
  {
   "cell_type": "markdown",
   "id": "authorized-relaxation",
   "metadata": {},
   "source": [
    "Note that the `cstat` statistic retirns a reduced statistic (in this case of ~ 1.07, suggesting we've been able to correctly describe the data, but that's not surprising given we know what the \"truth\" is here):"
   ]
  },
  {
   "cell_type": "code",
   "execution_count": 46,
   "id": "finite-efficiency",
   "metadata": {},
   "outputs": [
    {
     "name": "stdout",
     "output_type": "stream",
     "text": [
      "Dataset               = 1\n",
      "Statistic             = cstat\n",
      "Fit statistic value   = 2039.71\n",
      "Data points           = 1919\n",
      "Degrees of freedom    = 1911\n",
      "Probability [Q-value] = 0.0202992\n",
      "Reduced statistic     = 1.06735\n"
     ]
    }
   ],
   "source": [
    "calc_stat_info()"
   ]
  },
  {
   "cell_type": "code",
   "execution_count": null,
   "id": "useful-invite",
   "metadata": {},
   "outputs": [],
   "source": []
  }
 ],
 "metadata": {
  "kernelspec": {
   "display_name": "Python 3",
   "language": "python",
   "name": "python3"
  },
  "language_info": {
   "codemirror_mode": {
    "name": "ipython",
    "version": 3
   },
   "file_extension": ".py",
   "mimetype": "text/x-python",
   "name": "python",
   "nbconvert_exporter": "python",
   "pygments_lexer": "ipython3",
   "version": "3.8.2"
  }
 },
 "nbformat": 4,
 "nbformat_minor": 5
}
